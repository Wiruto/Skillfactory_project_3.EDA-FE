{
 "cells": [
  {
   "cell_type": "markdown",
   "metadata": {},
   "source": [
    "# <center> *PROJECT-3. EDE + Feature Engineering*\n",
    "# <center> *Соревнования на Kaggle*"
   ]
  },
  {
   "cell_type": "markdown",
   "metadata": {},
   "source": [
    "<span style=\"color:#59afe1\"> \n",
    "\n",
    "## Содержание:\n",
    "\n",
    "+ [Постановка задачи](#p1)\n",
    "+ [Подготовка Jupyter Notebook](#p2)\n",
    "+ [Загрузка данных](#p3)\n",
    "+ [Предварительный анализ данных](#p4)\n",
    "+ [Разведывательный анализ и обработка данных](#p5)\n",
    "\n",
    "    + [Проанализируем корреляционную связь числовых признаков с целевым признаком *reviewer_score*](#p51)\n",
    "    + [Обработка признака *hotel_address*](#p52)\n",
    "    + [На основе признаков *country* и reviewer_nationality создадим признак *resident*](#p53)\n",
    "    + [Создадим признак percentage_of_reviews](#p54)\n",
    "    + [Обработка признака *review_date*](#p55)\n",
    "    + [Обработка признака *hotel_name*](#p56)\n",
    "    + [Обработка признака *reviewer_nationality*](#p57)\n",
    "    + [Обработка признаков *positive_review* и *negative_review*](#p58)\n",
    "    + [Обработка признака *tags*](#p59)\n",
    "    + [Обработка признака *lat* и *lng* ](#p510)\n",
    "    + [Выбор признаков для обучения модели](#p511)\n",
    "    \n",
    "+ [Проверка обучающих признаков](#p6)\n",
    "+ [Подготовка тестовых данных](#p7)\n",
    "\n",
    "    + [загрузка данных](#p71)\n",
    "    + [создадим признак *country_cod*](#p72)\n",
    "    + [создадим признак *resident*](#p73)\n",
    "    + [создадим признак *good_words*](#p74)\n",
    "    + [создадим признак *nationality_cod*](#p75)\n",
    "    + [создадим признаки *friendly_words* и *no_friendly_words*](#p76)\n",
    "    + [создадим признак *percentage_positive_reviews*](#p77)\n",
    "    + [создадим признак *type_of_trip*](#p78)\n",
    "    + [создадим признак *view*](#p79)\n",
    "    + [создадим признак *type_of_premium_room*](#p710)\n",
    "    + [Результирующие test_data](#p711)\n",
    "\n",
    "+ [Машинное обучение](#p8)"
   ]
  },
  {
   "cell_type": "markdown",
   "metadata": {},
   "source": [
    "<span style=\"color:#59afe1\"> \n",
    "\n",
    "## ПОСТАНОВКА ЗАДАЧИ <a id='p1'>"
   ]
  },
  {
   "cell_type": "markdown",
   "metadata": {},
   "source": [
    "<span style=\"color:#59afe1\"> \n",
    "\n",
    "Кейс:\n",
    "\n",
    "Представьте, что вы работаете дата-сайентистом в компании Booking. Одна из проблем компании — это нечестные отели,  \n",
    "которые накручивают себе рейтинг. Одним из способов обнаружения таких отелей является построение модели, которая   \n",
    "предсказывает рейтинг отеля. Если предсказания модели сильно отличаются от фактического результата, то, возможно,   \n",
    "отель ведёт себя нечестно, и его стоит проверить.\n",
    "\n",
    "Вам поставлена задача создать такую модель."
   ]
  },
  {
   "cell_type": "markdown",
   "metadata": {},
   "source": [
    "Исходные данные:\n",
    "\n",
    "В этом модуле мы будем работать с датасетом, в котором содержатся сведения о 515 000 отзывов на отели Европы.  \n",
    "Первоначальная версия датасета содержит 17 полей со следующей информацией:\n",
    "\n",
    "- hotel_address — адрес отеля;\n",
    "- review_date — дата, когда рецензент разместил соответствующий отзыв;\n",
    "- average_score — средний балл отеля, рассчитанный на основе последнего комментария за последний год;\n",
    "- hotel_name — название отеля;\n",
    "- reviewer_nationality — страна рецензента;\n",
    "- negative_review — отрицательный отзыв, который рецензент дал отелю;\n",
    "- review_total_negative_word_counts — общее количество слов в отрицательном отзыве;\n",
    "- positive_review — положительный отзыв, который рецензент дал отелю;\n",
    "- review_total_positive_word_counts — общее количество слов в положительном отзыве;\n",
    "- reviewer_score — оценка, которую рецензент поставил отелю на основе своего опыта;\n",
    "- total_number_of_reviews_reviewer_has_given — количество отзывов, которые рецензенты дали в прошлом;\n",
    "- total_number_of_reviews — общее количество действительных отзывов об отеле;\n",
    "- tags — теги, которые рецензент дал отелю;\n",
    "- days_since_review — количество дней между датой проверки и датой очистки;\n",
    "- additional_number_of_scoring — есть также некоторые гости, которые просто поставили оценку сервису, но не оставили отзыв. Это число указывает, сколько там дополнительных оценок без отзывов.\n",
    "- lat — географическая широта отеля;\n",
    "- lng — географическая долгота отеля.\n",
    "\n",
    "Источник датасета: [hotel.csv](https://drive.google.com/file/d/1Qj0iYEbD64eVAaaBylJeIi3qvMzxf2C_/view?usp=sharing)"
   ]
  },
  {
   "cell_type": "markdown",
   "metadata": {},
   "source": [
    "<span style=\"color:#59afe1\"> \n",
    "\n",
    "## ПОДГОТОВКА JUPYTER NOTEBOOK <a id='p2'>"
   ]
  },
  {
   "cell_type": "code",
   "execution_count": null,
   "metadata": {},
   "outputs": [],
   "source": [
    "# Импорт библиотеки для работы с данными\n",
    "import pandas as pd\n",
    "import numpy as np\n",
    "\n",
    "# импортируем библиотеку для работы с кодировщиками\n",
    "import category_encoders as ce \n",
    "\n",
    "# импортируем библиотеку для работы с подсчетом в списках\n",
    "from collections import Counter\n",
    "\n",
    "# импорт библиотеки для работы со статистическим анализом\n",
    "from scipy import stats\n",
    "import statsmodels.api as sm\n",
    "from statsmodels import stats as sms\n",
    "\n",
    "# импорт библиотеки для регулярных выражений\n",
    "import re\n",
    "\n",
    "# библиотека для работы с геоданными\n",
    "from geopy.geocoders import Nominatim\n",
    "from geopy.distance import geodesic\n",
    "# чтобы убрать проверку сертификатов\n",
    "import ssl\n",
    "import certifi\n",
    "import geopy.geocoders\n",
    "ctx = ssl.create_default_context(cafile=certifi.where())\n",
    "geopy.geocoders.options.default_ssl_context = ctx\n",
    "\n",
    "# Загружаем специальный инструмент для разбивки выборок из данных:  \n",
    "from sklearn.model_selection import train_test_split\n",
    "\n",
    "# Загружаем библиотеки для создания модели:  \n",
    "from sklearn.ensemble import RandomForestRegressor # инструмент для создания и обучения модели  \n",
    "from sklearn import metrics # инструменты для оценки точности модели \n",
    "\n",
    "# импорт библиотек для работы с plotly графикой\n",
    "import plotly.graph_objects as go\n",
    "import plotly.figure_factory as ff\n",
    "import plotly.express as px\n",
    "from plotly.subplots import make_subplots\n",
    "\n",
    "# импортируем библиотеки для визуализации\n",
    "import matplotlib.pyplot as plt\n",
    "import seaborn as sns \n",
    "%matplotlib inline\n",
    "\n",
    "# импорт библиотеки для игнорирования сообщений warnings\n",
    "import warnings\n",
    "warnings.filterwarnings('ignore')"
   ]
  },
  {
   "cell_type": "code",
   "execution_count": null,
   "metadata": {},
   "outputs": [],
   "source": [
    "# фиксируем RANDOM_SEED, чтобы эксперименты были воспроизводимы!\n",
    "RANDOM_SEED = 42"
   ]
  },
  {
   "cell_type": "code",
   "execution_count": null,
   "metadata": {},
   "outputs": [],
   "source": [
    "# зафиксируем версию пакетов, чтобы эксперименты были воспроизводимы:\n",
    "!pip3 freeze > requirements.txt"
   ]
  },
  {
   "cell_type": "markdown",
   "metadata": {},
   "source": [
    "<span style=\"color:#59afe1\"> \n",
    "\n",
    "## ЗАГРУЗКА ДАННЫХ <a id='p3'>"
   ]
  },
  {
   "cell_type": "code",
   "execution_count": null,
   "metadata": {},
   "outputs": [],
   "source": [
    "hotels =pd.read_csv('data/hotels.csv')\n",
    "hotels.head(5)"
   ]
  },
  {
   "cell_type": "markdown",
   "metadata": {},
   "source": [
    "<span style=\"color:#59afe1\"> \n",
    "\n",
    "## ПРЕДВАРИТЕЛЬНЫЙ АНАЛИЗ ДАННЫХ <a id='p4'>"
   ]
  },
  {
   "cell_type": "code",
   "execution_count": null,
   "metadata": {},
   "outputs": [],
   "source": [
    "# информация о типам данных в таблице и нулевых значениях\n",
    "hotels.info()"
   ]
  },
  {
   "cell_type": "code",
   "execution_count": null,
   "metadata": {},
   "outputs": [],
   "source": [
    "# проанализируем основные статистические показатели числовых признаков\n",
    "hotels.describe()"
   ]
  },
  {
   "cell_type": "code",
   "execution_count": null,
   "metadata": {},
   "outputs": [],
   "source": [
    "# проанализируем основные статистические показатели не числовых признаков\n",
    "hotels.describe(exclude=['int64','float64'])"
   ]
  },
  {
   "cell_type": "code",
   "execution_count": null,
   "metadata": {},
   "outputs": [],
   "source": [
    "# проверим на наличие полных дубликатов\n",
    "print('Количество дубликатов: {}'.format(hotels[hotels.duplicated()].shape[0]))\n",
    "print('Размер таблицы до удаления дубликатов: {}'.format(hotels.shape))\n",
    "# Удаляем дубликаты:\n",
    "df = hotels.drop_duplicates()\n",
    "print('Размер таблицы после удаления дубликатов: {}'.format(df.shape))"
   ]
  },
  {
   "cell_type": "markdown",
   "metadata": {},
   "source": [
    "<span style=\"color:#59afe1\"> \n",
    "\n",
    "Поставим своей задачей извлечь из признаков новые признаки, влияющие на reviewer_score для отеля. \n",
    "\n",
    "- проанализируем корреляционную связь числовых признаков с целевым.\n",
    "\n",
    "- hotel_address.  \n",
    "    Из этого признака можно извлечь информацию о стране и городе в котором находится отель.  \n",
    "    По полученной информации можно получить ТОП \"лучших\" стран, с точки зрения  \n",
    "    оценки рецензента. После создадим числовой признак - место страны в ТОПе.  \n",
    "    Используя признак reviewer_nationality, можно создать ,бинарный признак \"resident\".  \n",
    "    Возможную зависимость, оценки рецензента от полученного признака можно оценить в дальнейшем.  \n",
    "\n",
    "- Посмотрим на зависимость reviewer_score от соотношения  \n",
    "    percentage_of_reviews = total_number_of_reviews/(total_number_of_reviews+additional_number_of_scoring).    \n",
    "    Какой процент посетителей из тех, что поставили оценку оставляли свой отзыв об отеле.\n",
    "    \n",
    "- review_date.  \n",
    "    Приведем этот признак к типу данных datatime. Извлечем год и месяц в котором была оставлена оценка.  \n",
    "    Проанализируем зависимость reviewer_score от месяца и года в котором оставляли отзыв об отеле.\n",
    "\n",
    "- hotel_name.  \n",
    "    Я думаю, из этого признака можно извлечь \"красивые\"/\"плохие\" слова, составить из них ТОП и сделать  \n",
    "    бинарные признаки - присутствует/отсутствует в название отеля \"красивое\"/\"плохое\" слово.     \n",
    "    Я имею ввиду, что если в имени отеля есть слова  \"Legend\", \"Mercure\", \"International\" и т.д.,   \n",
    "    скоре всего эти имена в какой то степени отражают уровень отеля. Или на крайний случай, отношение   \n",
    "    посетителя к отелю, что так же влияет не его оценку.\n",
    "\n",
    "- reviewer_nationality.  \n",
    "    Проанализировать влияние признака на оценку посетителя. При наличие связи выявить ТОП   \n",
    "    \"хороших\"/\"плохих\" национальностей и сделать соответствующие категориальные признаки.  \n",
    "\n",
    "- negative_review.  \n",
    "    Проанализировать на ТОП \"плохих\" слов. Сделать бинарный признак.  \n",
    "    Найдем количество негативных отзывов для каждого отеля.\n",
    "\n",
    "- positive_review.  \n",
    "    Проанализировать на ТОП \"хороших\" слов. Сделать бинарный признак.\n",
    "    Найдем количество позитивных отзывов для каждого отеля.  \n",
    "\n",
    "- lat, lng.  \n",
    "    Используем признаки, чтобы с помощью дополнительных источников узнать расстояния от отеля до метро, кофейных, центра города. \n",
    "    При создание новых признаков учтем, что присутствуют пропуски значений. "
   ]
  },
  {
   "cell_type": "code",
   "execution_count": null,
   "metadata": {},
   "outputs": [],
   "source": [
    "# создадим список в который будет добавлять признаки, подходящие под обучение модели \n",
    "list_features =[]"
   ]
  },
  {
   "cell_type": "markdown",
   "metadata": {},
   "source": [
    "<span style=\"color:#59afe1\"> \n",
    "\n",
    "## РАЗВЕДЫВАТЕЛЬНЫЙ АНАЛИЗ И ОБРАБОТКА ДАННЫХ <a id='p5'>"
   ]
  },
  {
   "cell_type": "markdown",
   "metadata": {},
   "source": [
    "<span style=\"color:#59afe1\"> \n",
    "\n",
    "### Проанализируем корреляционную связь числовых признаков с целевым признаком *reviewer_score* <a id='p51'>"
   ]
  },
  {
   "cell_type": "code",
   "execution_count": null,
   "metadata": {},
   "outputs": [],
   "source": [
    "# соберем матрицу корреляции из числовых признаков\n",
    "df_corr_rs = hotels.corr(numeric_only=True)"
   ]
  },
  {
   "cell_type": "code",
   "execution_count": null,
   "metadata": {},
   "outputs": [],
   "source": [
    "# представим матрицу корреляции на тепловой карте\n",
    "# так как названия признаков громоздкие \"спрячем\" их под номера, а сама информация будет появляться при наведение на ячейку\n",
    "# для этого создадим матрицу признаков отображаемых при наведение\n",
    "# матрица будет иметь размерность LxL, где L-это количество признаков в матрице\n",
    "# соберем список числовых признаков\n",
    "list_f =list(df_corr_rs.index)\n",
    "# заполним матрицу списками со всеми возможными пересечениями признаков\n",
    "matrix_f = []\n",
    "for i in range(0,len(list_f)):\n",
    "    new_list = []                                   # на каждой итерации создаем пустой список\n",
    "    for j in range(0,len(list_f)):                  # создаем второй цикл для заполнения новых списков двумя признаками\n",
    "        new_list.append([list_f[i],list_f[j]])      # заполняем список двумя признаками\n",
    "    matrix_f.append(new_list)                       # после выход их второго цикла передаем список в исходную матрицу\n",
    "\n",
    "\n",
    "fig_1 = go.Figure(data=go.Heatmap(\n",
    "                   z = df_corr_rs.round(3),\n",
    "                   zmin=-1,\n",
    "                   zmax=1,\n",
    "                   zmid=0,\n",
    "                   texttemplate='%{z}',\n",
    "                   meta=matrix_f,\n",
    "                   hovertemplate=\"%{meta[0]}<br>%{meta[1]}<extra></extra>\",\n",
    "                   colorscale =[\n",
    "                       [0.0,'red'],\n",
    "                       [0.05,'red'],\n",
    "                       [0.05,'orange'],\n",
    "                       [0.15,'orange'],\n",
    "                       [0.15,'yellow'],\n",
    "                       [0.25,'yellow'],\n",
    "                       [0.25,'green'],\n",
    "                       [0.35,'green'],\n",
    "                       [0.35,'Aqua'],\n",
    "                       [0.45,'Aqua'],\n",
    "                       [0.45,'white'],\n",
    "                       [0.5,'white'],\n",
    "                       [0.55,'white'],\n",
    "                       [0.55,'Aqua'],\n",
    "                       [0.65,'Aqua'],\n",
    "                       [0.65,'green'],\n",
    "                       [0.75,'green'],\n",
    "                       [0.75,'yellow'],\n",
    "                       [0.85,'yellow'],\n",
    "                       [0.85,'orange'],\n",
    "                       [0.95,'orange'],\n",
    "                       [0.95,'red'],\n",
    "                       [1.0,'red']\n",
    "                   ]\n",
    "                   ))\n",
    "# настроим оформление рабочей поверхности\n",
    "fig_1.update_layout(\n",
    "    title ={\n",
    "        'text':'Матрица корреляции', # Имя рабочей плоскости\n",
    "        'font':{'size':35,'family':\"Times New Roman\"}, # размер и стиль написания имени рабочей плоскости\n",
    "        'x':0.5, # Смешение имени по оси \"x\" на половину рабочей плоскости\n",
    "        },\n",
    "    height = 800,# Высота рабочей плоскости\n",
    "    width = 1600, # Ширина рабочей плоскости\n",
    "    template='simple_white', # зададим тему оформления для рабочей поверхности \n",
    "    )\n",
    "fig_1.show()"
   ]
  },
  {
   "cell_type": "markdown",
   "metadata": {},
   "source": [
    "<span style=\"color:#59afe1\">\n",
    "\n",
    "**Вывод**\n",
    "\n",
    "Корреляционный анализ показал:\n",
    "- целевой признак не имеет корреляционной связи с:\n",
    "    - additional_number_of_scoring;\n",
    "    - total_number_of_reviews;\n",
    "    - total_number_of_reviews_reviewer_has_given;\n",
    "    - lat;\n",
    "    - lat.\n",
    "- целевой признак имеет очень слабую положительную корреляционную связь с:\n",
    "    - review_total_positive_word_counts.\n",
    "- целевой признак имеет слабую положительную корреляционную связь с:\n",
    "    - average_score.\n",
    "- целевой признак имеет слабую отрицательную корреляционную связь с:\n",
    "    - review_total_negative_word_counts.\n",
    "\n",
    "Признаки не имеющие корреляционной связи, не попадут в список для обучения модели.\n",
    "\n",
    "Помимо этого признаки additional_number_of_scoring и total_number_of_reviews имеют сильную корреляционную связь.  \n",
    "Получим из них признак percentage_of_reviews и удалим оба."
   ]
  },
  {
   "cell_type": "code",
   "execution_count": null,
   "metadata": {},
   "outputs": [],
   "source": [
    "# добавим выбранные признаки в список list_features\n",
    "list_features.extend(['review_total_positive_word_counts','average_score','review_total_negative_word_counts'])"
   ]
  },
  {
   "cell_type": "markdown",
   "metadata": {},
   "source": [
    "<span style=\"color:#59afe1\"> \n",
    "\n",
    "### Обработка признака *hotel_address* <a id='p52'>"
   ]
  },
  {
   "cell_type": "code",
   "execution_count": null,
   "metadata": {},
   "outputs": [],
   "source": [
    "# взглянем на структуру адреса\n",
    "hotels['hotel_address'].value_counts().iloc[100:120]"
   ]
  },
  {
   "cell_type": "markdown",
   "metadata": {},
   "source": [
    "1. Если отель не из United Kingdom, то структура адреса : \".... город страна\"\n",
    "2. Если отель из United Kingdom, то структура адреса : \".... город United Kingdom\""
   ]
  },
  {
   "cell_type": "code",
   "execution_count": null,
   "metadata": {},
   "outputs": [],
   "source": [
    "# взглянем на значения полученные извлечением последнего слова в строке\n",
    "hotels['hotel_address'].str.findall('\\w+').str.get(-1).value_counts()"
   ]
  },
  {
   "cell_type": "code",
   "execution_count": null,
   "metadata": {},
   "outputs": [],
   "source": [
    "# взглянем на значения полученные извлечением предпоследнего слова в строке\n",
    "hotels['hotel_address'].str.findall('\\w+').str.get(-2).value_counts()"
   ]
  },
  {
   "cell_type": "markdown",
   "metadata": {},
   "source": [
    "Очевидно, что нет ошибки в предположение: информация о стране содержится в последнем слове строки адреса.  \n",
    "Видно, что в данных представлены отели только из одного города в стране. Если это Italy, то город обязательно Milan.  \n",
    "Поэтому, для дальнейшего анализа нет смысла извлекать и страну и город."
   ]
  },
  {
   "cell_type": "code",
   "execution_count": null,
   "metadata": {},
   "outputs": [],
   "source": [
    "# создадим признак страны отеля\n",
    "hotels['country']= hotels['hotel_address'].str.findall('\\w+').str.get(-1)\n",
    "# заменим значение Kingdom на United Kingdom\n",
    "hotels['country']=hotels['country'].apply(lambda x: 'United Kingdom' if x == 'Kingdom' else x)\n",
    "hotels['country'].value_counts()"
   ]
  },
  {
   "cell_type": "code",
   "execution_count": null,
   "metadata": {},
   "outputs": [],
   "source": [
    "# создадим признак города отеля\n",
    "hotels['city']= hotels['hotel_address'].str.findall('\\w+').str.get(-2)\n",
    "# заменим значение United на London\n",
    "hotels['city']=hotels['city'].apply(lambda x: 'London' if x == 'United' else x)\n",
    "hotels['city'].value_counts()"
   ]
  },
  {
   "cell_type": "markdown",
   "metadata": {},
   "source": [
    "Проанализируем распределение оценок рецензента в зависимости от страны отеля"
   ]
  },
  {
   "cell_type": "code",
   "execution_count": null,
   "metadata": {},
   "outputs": [],
   "source": [
    "fig_country = go.Figure()\n",
    "\n",
    "# настроим оформление рабочей поверхности\n",
    "fig_country.update_layout(\n",
    "    title ={\n",
    "        'text':'Распределение оценок рецензента в зависимости от страны', # Имя рабочей плоскости\n",
    "        'font':{'size':35,'family':\"Times New Roman\"}, # размер и стиль написания имени рабочей плоскости\n",
    "        'x':0.5, # Смешение имени по оси \"x\" на половину рабочей плоскости\n",
    "        },\n",
    "    height = 800,# Высота рабочей плоскости\n",
    "    width = 1600, # Ширина рабочей плоскости\n",
    "    template='simple_white', # зададим тему оформления для рабочей поверхности \n",
    "    )\n",
    "fig_country.update_xaxes(\n",
    "    title = 'Оценка рецензента' # подпишем ось абсцисс\n",
    ")\n",
    "fig_country.update_yaxes(\n",
    "    categoryorder ='mean ascending',\n",
    ")\n",
    "\n",
    "# Добавим диаграммы на рабочую поверхность\n",
    "for mask in sorted(hotels['country'].unique()):\n",
    "    fig_country.add_trace(go.Box(\n",
    "        y=hotels[hotels['country'] ==mask]['country'],\n",
    "        x=hotels[hotels['country'] ==mask]['reviewer_score'],\n",
    "        boxmean=True,\n",
    "        hoverinfo='x',\n",
    "        name=str(mask)\n",
    "        )\n",
    "                    )\n",
    "\n",
    "# расположим коробчатые графики горизонтально\n",
    "fig_country.update_traces(\n",
    "    orientation='h'\n",
    ")\n",
    "fig_country.show()"
   ]
  },
  {
   "cell_type": "markdown",
   "metadata": {},
   "source": [
    "Из анализа графика можно сказать, что оценки отеля отличаются в зависимости от страны отеля, но эти отличия не выгладят статистически значимыми.  \n",
    "Проведем для представленных распределений статистический тест."
   ]
  },
  {
   "cell_type": "code",
   "execution_count": null,
   "metadata": {},
   "outputs": [],
   "source": [
    "# задаём уровень значимости\n",
    "alpha = 0.05 \n",
    "print(\"Уровень значимости alpha = {:.2f}\".format(alpha))"
   ]
  },
  {
   "cell_type": "code",
   "execution_count": null,
   "metadata": {},
   "outputs": [],
   "source": [
    "# функция для принятия решения о нормальности\n",
    "def decision_normality(p):\n",
    "    print('p-value = {:.3f}'.format(p))\n",
    "    if p <= alpha:\n",
    "        print('p-значение меньше, чем заданный уровень значимости {:.2f}. Распределение отлично от нормального'.format(alpha))\n",
    "    else:\n",
    "        print('p-значение больше, чем заданный уровень значимости {:.2f}. Распределение является нормальным'.format(alpha))\n",
    "\n",
    "\n",
    "# функция для принятия решения об отклонении нулевой гипотезы\n",
    "def decision_hypothesis(p):\n",
    "    print('p-value = {:.3f}'.format(p))\n",
    "    if p <= alpha:\n",
    "        print('p-значение меньше, чем заданный уровень значимости {:.2f}. Отвергаем нулевую гипотезу в пользу альтернативной.'.format(alpha))\n",
    "    else:\n",
    "        print('p-значение больше, чем заданный уровень значимости {:.2f}. У нас нет оснований отвергнуть нулевую гипотезу.'.format(alpha))"
   ]
  },
  {
   "cell_type": "markdown",
   "metadata": {},
   "source": [
    "Оценка рецензента зависит от страны отеля?\n",
    "\n",
    "**Сформулируем нулевую и альтернативные гипотезы**\n",
    "\n",
    "*Нулевая гипотеза*: Оценка рецензента не зависит от страны отеля:\n",
    "\n",
    "$$ H_0 : μ_1 = μ_2 = μ_3 = μ_4 = μ_5$$\n",
    "\n",
    "*Альтернативная гипотеза*: Оценка рецензента зависит от страны отеля.\n",
    "\n",
    "$$ H_1 : μ_1 \\neq μ_2 \\neq μ_3 \\neq μ_4 \\neq μ_5$$\n",
    "\n"
   ]
  },
  {
   "cell_type": "markdown",
   "metadata": {},
   "source": [
    "**Проверка на нормальность**\n",
    "\n",
    "С помощью теста Шапиро-Уилка проверим, распределён ли признак нормально."
   ]
  },
  {
   "cell_type": "code",
   "execution_count": null,
   "metadata": {},
   "outputs": [],
   "source": [
    "# для сокращения длины кода осуществим проверку с помощью цикла для этого:\n",
    "# проводим тест Шапиро-Уилка\n",
    "for mask in hotels['country'].unique():\n",
    "    print('Распределение оценок рецензентов для отелей из',str(mask)+':')\n",
    "    result = stats.shapiro(hotels[hotels['country'] ==mask]['reviewer_score'])\n",
    "    decision_normality(result[1])\n",
    "    print()\n",
    "    \n",
    "print('Количество сравниваемых групп:',len(hotels['country'].unique()))"
   ]
  },
  {
   "cell_type": "markdown",
   "metadata": {},
   "source": [
    "**Выберем подходящий статистический тест**\n",
    "\n",
    "Для выбора нужного теста воспользуемся алгоритмом выбора теста. Для этого ответим на следующие вопросы:\n",
    "* Какой тип у исследуемого признака? — Количественный.\n",
    "* Сколько сравниваемых групп? — шесть.\n",
    "* Группы зависимы? — Нет.\n",
    "* Признак распределён по нормальному закону? — Нет. \n",
    "\n",
    "Для проверки нашей гипотезы можно использовать критерий Краскела — Уоллиса.\n",
    "\n",
    "**Проведём тест**"
   ]
  },
  {
   "cell_type": "code",
   "execution_count": null,
   "metadata": {},
   "outputs": [],
   "source": [
    "# соберем список из тестируемых зависимостей\n",
    "list_df_countries =[]\n",
    "# воспользуемся списком list_countries, полученного на этапе ранее\n",
    "for mask in hotels['country'].unique():\n",
    "    list_df_countries.append(hotels[hotels['country']==mask]['reviewer_score'])\n",
    "    # проводим тест\n",
    "_, p = stats.kruskal(*list_df_countries)\n",
    "decision_hypothesis(p)"
   ]
  },
  {
   "cell_type": "markdown",
   "metadata": {},
   "source": [
    "<span style=\"color:#59afe1\">\n",
    "\n",
    "**Вывод**\n",
    "\n",
    "Статистический тест показал наличие связи между страной отеля и оценкой рецензента.   \n",
    "Очевидно, что мы оставляем данный признак для обучения нашей модели.   \n",
    "Для этого кодируем наш признак с помощью порядкового кодирования.  \n",
    "В нашем кодирование номер будет означать более высокие места в ТОП стран по среднему значению оценки рецензента.  \n",
    "Первое место имеет самое большое значение кода."
   ]
  },
  {
   "cell_type": "code",
   "execution_count": null,
   "metadata": {},
   "outputs": [],
   "source": [
    "# составим список ТОП стран отеля по среднему значению оценки рецензента\n",
    "list_top_countries = list(hotels.groupby('country')['reviewer_score'].mean().sort_values().index)\n",
    "\n",
    "# составим карту кодирования (Словарь со значениями)\n",
    "dict_map_c ={}\n",
    "for i in range(0,len(list_top_countries)):\n",
    "    dict_map_c[list_top_countries[i]]=i+1\n",
    "\n",
    "# создаем объект OrdinalEncoder, col - имя столбца, mapping - словарь с описанием кодировки\n",
    "ord_encoder_c = ce.OrdinalEncoder(mapping=[{\n",
    "\t'col': 'country',\n",
    "\t'mapping': dict_map_c\n",
    "}])\n",
    "# применяем трансформацию к столбцу\n",
    "hotels['country_cod'] = ord_encoder_c.fit_transform(hotels[['country']])\n",
    "#  проверим корректность замены\n",
    "print(hotels['country'].value_counts(),hotels['country_cod'].value_counts())"
   ]
  },
  {
   "cell_type": "code",
   "execution_count": null,
   "metadata": {},
   "outputs": [],
   "source": [
    "# добавим признак country_cod в список list_features\n",
    "list_features.append('country_cod')"
   ]
  },
  {
   "cell_type": "markdown",
   "metadata": {},
   "source": [
    "<span style=\"color:#59afe1\"> \n",
    "\n",
    "### На основе признаков *country* и reviewer_nationality создадим признак *resident* <a id='p53'>"
   ]
  },
  {
   "cell_type": "code",
   "execution_count": null,
   "metadata": {},
   "outputs": [],
   "source": [
    "# значение в признаки 1 - посетитель резидент страны\n",
    "# значение признака 0 - посетитель не резидент страны\n",
    "hotels['resident'] = hotels.apply(lambda x: 1 if (x['country']==x['reviewer_nationality'][1:-1]) else 0,axis=1)\n",
    "# проверим фрагмент таблицы\n",
    "hotels[['country','reviewer_nationality','resident']].head(10)"
   ]
  },
  {
   "cell_type": "markdown",
   "metadata": {},
   "source": [
    "проанализируем связь полученного признака и *reviewer_score*"
   ]
  },
  {
   "cell_type": "code",
   "execution_count": null,
   "metadata": {},
   "outputs": [],
   "source": [
    "fig_3 = go.Figure()\n",
    "# пропишем условия выбора данных\n",
    "mask_r_1 = hotels['resident'] == 1\n",
    "mask_r_0 = hotels['resident'] == 0\n",
    "\n",
    "# сформируем список условий и имен\n",
    "list_resident = [[mask_r_1,'Resident'],[mask_r_0,'No Resident']]\n",
    "\n",
    "# настроим оформление рабочей поверхности\n",
    "fig_3.update_layout(\n",
    "    title ={\n",
    "        'text':'Распределение оценок рецензента в зависимости от его статуса в стране', # Имя рабочей плоскости\n",
    "        'font':{'size':35,'family':\"Times New Roman\"}, # размер и стиль написания имени рабочей плоскости\n",
    "        'x':0.5, # Смешение имени по оси \"x\" на половину рабочей плоскости\n",
    "        },\n",
    "    height = 800,# Высота рабочей плоскости\n",
    "    width = 1600, # Ширина рабочей плоскости\n",
    "    template='simple_white', # зададим тему оформления для рабочей поверхности \n",
    "    )\n",
    "fig_3.update_xaxes(\n",
    "    title = 'Оценка рецензента' # подпишем ось абсцисс\n",
    ")\n",
    "fig_3.update_yaxes(\n",
    "    categoryorder ='mean ascending',\n",
    ")\n",
    "\n",
    "# Добавим диаграммы на рабочую поверхность\n",
    "for mask in list_resident:\n",
    "    fig_3.add_trace(go.Box(\n",
    "        y=hotels[mask[0]]['resident'],\n",
    "        x=hotels[mask[0]]['reviewer_score'],\n",
    "        boxmean=True,\n",
    "        hoverinfo='x',\n",
    "        name=mask[1])\n",
    "                    )\n",
    "\n",
    "# расположим коробчатые графики горизонтально\n",
    "fig_3.update_traces(\n",
    "    orientation='h'\n",
    ")\n",
    "fig_3.show()\n"
   ]
  },
  {
   "cell_type": "markdown",
   "metadata": {},
   "source": [
    "Из анализа графика можно сказать, что оценки отеля отличаются в зависимости от статуса рецензента, но эти отличия не выгладят статистически значимыми.  \n",
    "Проведем для представленных распределений статистический тест."
   ]
  },
  {
   "cell_type": "markdown",
   "metadata": {},
   "source": [
    "Как соотносятся оценки рецензентов в зависимости от их статуса в стране?\n",
    "\n",
    "**Сформулируем нулевую и альтернативные гипотезы**\n",
    "\n",
    "*Нулевая гипотеза*:  Оценка резидента($μ_1$) такая же либо меньше, чем у не резидента($μ_2$):\n",
    "\n",
    "\n",
    "$$ H_0 : μ_1=<μ_2$$\n",
    "\n",
    "*Альтернативная гипотеза*:  Оценка резидента ($μ_1$) больше, чем оценка не резидента ($μ_2$):\n",
    "\n",
    "$$ H_1 : μ_1>μ_2$$\n",
    "\n"
   ]
  },
  {
   "cell_type": "markdown",
   "metadata": {},
   "source": [
    "**Проверка на нормальность**\n",
    "\n",
    "С помощью теста Шапиро-Уилка проверим, распределён ли признак нормально. Напомним гипотезы теста Шапиро-Уилка:\n",
    "\n",
    "*Нулевая гипотеза* ($H_0$): распределение данные является нормальным.\n",
    "\n",
    "*Альтернативная гипотеза* ($H_1$): распределение данных отлично от нормального."
   ]
  },
  {
   "cell_type": "code",
   "execution_count": null,
   "metadata": {},
   "outputs": [],
   "source": [
    "# распределение оценок \n",
    "rs_r1 = hotels[mask_r_1]['reviewer_score']\n",
    "rs_r0 =hotels[mask_r_0]['reviewer_score']\n",
    "\n",
    "# проводим тест Шапиро-Уилка\n",
    "print('Для резидентов:')\n",
    "result = stats.shapiro(rs_r1)\n",
    "decision_normality(result[1])\n",
    "\n",
    "print()\n",
    "print('Для не резидентов:')\n",
    "result = stats.shapiro(rs_r0)\n",
    "decision_normality(result[1])"
   ]
  },
  {
   "cell_type": "markdown",
   "metadata": {},
   "source": [
    "**Выберем подходящий статистический тест**\n",
    "\n",
    "Для выбора нужного теста воспользуемся алгоритмом выбора теста. Для этого ответим на следующие вопросы:\n",
    "* Какой тип у признака? — Количественный.\n",
    "* Сколько сравниваемых групп? — Две.\n",
    "* Группы зависимы? — Нет.\n",
    "* Признак распределён по нормальному закону? — Нет.\n",
    "\n",
    "Чтобы проверить нашу гипотезу, можно использовать U-критерий Манна — Уитни для сравнения распределений на основе рангов.\n",
    "\n",
    "**Проведём тест**"
   ]
  },
  {
   "cell_type": "code",
   "execution_count": null,
   "metadata": {},
   "outputs": [],
   "source": [
    "# проводим тест\n",
    "_, p = stats.mannwhitneyu(rs_r1,rs_r0, alternative='greater')\n",
    "decision_hypothesis(p)"
   ]
  },
  {
   "cell_type": "markdown",
   "metadata": {},
   "source": [
    "<span style=\"color:#59afe1\">\n",
    "\n",
    "**Вывод**\n",
    "\n",
    "Статистический тест показал, что существует статистическая разница между оценкой отеля от резидента и нет.  \n",
    "Оставляем данный признак для обучения модели."
   ]
  },
  {
   "cell_type": "code",
   "execution_count": null,
   "metadata": {},
   "outputs": [],
   "source": [
    "# добавим признак resident в список list_features\n",
    "list_features.append('resident')"
   ]
  },
  {
   "cell_type": "markdown",
   "metadata": {},
   "source": [
    "<span style=\"color:#59afe1\"> \n",
    "\n",
    "### Создадим признак percentage_of_reviews <a id='p54'>"
   ]
  },
  {
   "cell_type": "code",
   "execution_count": null,
   "metadata": {},
   "outputs": [],
   "source": [
    "# percentage_of_reviews = total_number_of_reviews/(total_number_of_reviews+additional_number_of_scoring)\n",
    "hotels['percentage_of_reviews'] = hotels.apply(lambda x: x['total_number_of_reviews']/(x['additional_number_of_scoring']+x['total_number_of_reviews']),axis=1)"
   ]
  },
  {
   "cell_type": "code",
   "execution_count": null,
   "metadata": {},
   "outputs": [],
   "source": [
    "# проанализируем корреляционную связь полученного признака и reviewer_score\n",
    "# соберем матрицу корреляции для выбранных признаков\n",
    "df_corr_pr = hotels[['percentage_of_reviews','reviewer_score']].corr()\n",
    "df_corr_pr"
   ]
  },
  {
   "cell_type": "markdown",
   "metadata": {},
   "source": [
    "<span style=\"color:#59afe1\">\n",
    "\n",
    "**Вывод**\n",
    "\n",
    "Анализ показал очень слабую корреляционную связь.   \n",
    "Данный признак не будем добавлять к списку признаков для обучения модели."
   ]
  },
  {
   "cell_type": "markdown",
   "metadata": {},
   "source": [
    "<span style=\"color:#59afe1\"> \n",
    "\n",
    "### Обработка признака *review_date* <a id='p55'>"
   ]
  },
  {
   "cell_type": "code",
   "execution_count": null,
   "metadata": {},
   "outputs": [],
   "source": [
    "# из признака review_date создадим признак review_year и month\n",
    "hotels['review_year'] = pd.to_datetime(hotels['review_date']).dt.year\n",
    "hotels['review_month'] = pd.to_datetime(hotels['review_date']).dt.month\n",
    "# посмотрим на результат\n",
    "hotels[['review_date','review_year','review_month']].info()"
   ]
  },
  {
   "cell_type": "markdown",
   "metadata": {},
   "source": [
    "Проанализируем *reviewer_score* от года в котором был оставлен отзыв"
   ]
  },
  {
   "cell_type": "code",
   "execution_count": null,
   "metadata": {},
   "outputs": [],
   "source": [
    "fig_4 = go.Figure()\n",
    "\n",
    "# настроим оформление рабочей поверхности\n",
    "fig_4.update_layout(\n",
    "    title ={\n",
    "        'text':'Распределение оценок рецензента в зависимости от года рецензии', # Имя рабочей плоскости\n",
    "        'font':{'size':35,'family':\"Times New Roman\"}, # размер и стиль написания имени рабочей плоскости\n",
    "        'x':0.5, # Смешение имени по оси \"x\" на половину рабочей плоскости\n",
    "        },\n",
    "    height = 800,# Высота рабочей плоскости\n",
    "    width = 1600, # Ширина рабочей плоскости\n",
    "    template='simple_white', # зададим тему оформления для рабочей поверхности \n",
    "    )\n",
    "fig_4.update_xaxes(\n",
    "    title = 'Оценка рецензента' # подпишем ось абсцисс\n",
    ")\n",
    "fig_4.update_yaxes(\n",
    "    type='category',\n",
    "    categoryorder ='mean descending',\n",
    ")\n",
    "\n",
    "# Добавим диаграммы на рабочую поверхность\n",
    "for mask in sorted(hotels['review_year'].unique()):\n",
    "    fig_4.add_trace(go.Box(\n",
    "        y=hotels[hotels['review_year'] == mask]['review_year'],\n",
    "        x=hotels[hotels['review_year'] == mask]['reviewer_score'],\n",
    "        boxmean=True,\n",
    "        hoverinfo='x',\n",
    "        name=str(mask)\n",
    "    ))\n",
    "\n",
    "\n",
    "# расположим коробчатые графики горизонтально\n",
    "fig_4.update_traces(\n",
    "    orientation='h'\n",
    ")\n",
    "fig_4.show()"
   ]
  },
  {
   "cell_type": "markdown",
   "metadata": {},
   "source": [
    "Из анализа графика можно сказать, что оценки отеля отличаются в зависимости от года рецензии, но эти отличия не выгладят статистически значимыми.  \n",
    "Проведем для представленных распределений статистический тест."
   ]
  },
  {
   "cell_type": "markdown",
   "metadata": {},
   "source": [
    "Оценка рецензента зависит от года рецензии?\n",
    "\n",
    "**Сформулируем нулевую и альтернативные гипотезы**\n",
    "\n",
    "*Нулевая гипотеза*: Оценка рецензента не зависит от года рецензии:\n",
    "\n",
    "$$ H_0 : μ_1 = μ_2 = μ_3$$\n",
    "\n",
    "*Альтернативная гипотеза*: Оценка рецензента зависит от года рецензии.\n",
    "\n",
    "$$ H_1 : μ_1 \\neq μ_2 \\neq μ_{3}$$\n",
    "\n"
   ]
  },
  {
   "cell_type": "markdown",
   "metadata": {},
   "source": [
    "**Проверка на нормальность**\n",
    "\n",
    "С помощью теста Шапиро-Уилка проверим, распределён ли признак нормально."
   ]
  },
  {
   "cell_type": "code",
   "execution_count": null,
   "metadata": {},
   "outputs": [],
   "source": [
    "# для сокращения длины кода осуществим проверку с помощью цикла для этого:\n",
    "# проводим тест Шапиро-Уилка\n",
    "for mask in sorted(hotels['review_year'].unique()):\n",
    "    print('Распределение оценок рецензентов в',str(mask)+' году:')\n",
    "    result = stats.shapiro(hotels[hotels['review_year']==mask]['reviewer_score'])\n",
    "    decision_normality(result[1])\n",
    "    print()\n",
    "    \n",
    "print('Количество сравниваемых групп:',len(hotels['review_year'].unique()))"
   ]
  },
  {
   "cell_type": "markdown",
   "metadata": {},
   "source": [
    "**Выберем подходящий статистический тест**\n",
    "\n",
    "Для выбора нужного теста воспользуемся алгоритмом выбора теста. Для этого ответим на следующие вопросы:\n",
    "* Какой тип у исследуемого признака? — Количественный.\n",
    "* Сколько сравниваемых групп? — Три.\n",
    "* Группы зависимы? — Нет.\n",
    "* Признак распределён по нормальному закону? — Нет. \n",
    "\n",
    "Для проверки нашей гипотезы можно использовать критерий Краскела — Уоллиса.\n",
    "\n",
    "**Проведём тест**"
   ]
  },
  {
   "cell_type": "code",
   "execution_count": null,
   "metadata": {},
   "outputs": [],
   "source": [
    "# соберем список из тестируемых зависимостей\n",
    "list_dframes_y =[]\n",
    "# извлечем их из словаря dict_var, полученного на этапе ранее\n",
    "for mask in hotels['review_year'].unique():\n",
    "    list_dframes_y.append(hotels[hotels['review_year']==mask]['reviewer_score'])\n",
    "# проводим тест\n",
    "_, p = stats.kruskal(*list_dframes_y)\n",
    "decision_hypothesis(p)"
   ]
  },
  {
   "cell_type": "markdown",
   "metadata": {},
   "source": [
    "<span style=\"color:#59afe1\">\n",
    "\n",
    "**Вывод**\n",
    "\n",
    "Статистический тест показал, что оценка рецензента зависит от года рецензии.  \n",
    "Оставляем данный признак для обучения модели."
   ]
  },
  {
   "cell_type": "code",
   "execution_count": null,
   "metadata": {},
   "outputs": [],
   "source": [
    "# добавим признак review_year в список list_features\n",
    "list_features.append('review_year')"
   ]
  },
  {
   "cell_type": "markdown",
   "metadata": {},
   "source": [
    "Проанализируем *reviewer_score* от месяца в котором был оставлен отзыв"
   ]
  },
  {
   "cell_type": "code",
   "execution_count": null,
   "metadata": {},
   "outputs": [],
   "source": [
    "fig_5 = go.Figure()\n",
    "\n",
    "# настроим оформление рабочей поверхности\n",
    "fig_5.update_layout(\n",
    "    title ={\n",
    "        'text':'Распределение оценок рецензента в зависимости от месяца рецензии', # Имя рабочей плоскости\n",
    "        'font':{'size':35,'family':\"Times New Roman\"}, # размер и стиль написания имени рабочей плоскости\n",
    "        'x':0.5, # Смешение имени по оси \"x\" на половину рабочей плоскости\n",
    "        },\n",
    "    height = 800,# Высота рабочей плоскости\n",
    "    width = 1600, # Ширина рабочей плоскости\n",
    "    template='simple_white', # зададим тему оформления для рабочей поверхности \n",
    "    )\n",
    "fig_5.update_xaxes(\n",
    "    title = 'Оценка рецензента' # подпишем ось абсцисс\n",
    ")\n",
    "fig_5.update_yaxes(\n",
    "    type='category',\n",
    "    categoryorder ='mean descending',\n",
    ")\n",
    "\n",
    "# Добавим диаграммы на рабочую поверхность\n",
    "for mask in sorted(hotels['review_month'].unique()):\n",
    "    fig_5.add_trace(go.Box(\n",
    "        y=hotels[hotels['review_month'] == mask]['review_month'],\n",
    "        x=hotels[hotels['review_month'] == mask]['reviewer_score'],\n",
    "        boxmean=True,\n",
    "        hoverinfo='x',\n",
    "        name=str(mask)\n",
    "    ))\n",
    "\n",
    "\n",
    "# расположим коробчатые графики горизонтально\n",
    "fig_5.update_traces(\n",
    "    orientation='h'\n",
    ")\n",
    "fig_5.show()"
   ]
  },
  {
   "cell_type": "markdown",
   "metadata": {},
   "source": [
    "Из анализа графика можно сказать, что оценки отеля отличаются в зависимости от месяца рецензии.  \n",
    "Проведем для представленных распределений статистический тест."
   ]
  },
  {
   "cell_type": "markdown",
   "metadata": {},
   "source": [
    "Оценка рецензента зависит от месяца рецензии?\n",
    "\n",
    "**Сформулируем нулевую и альтернативные гипотезы**\n",
    "\n",
    "*Нулевая гипотеза*: Оценка рецензента не зависит от месяца рецензии:\n",
    "\n",
    "$$ H_0 : μ_1 = μ_2 = μ_3 = μ_4 = μ_5= μ_6 = μ_7 = μ_8 = μ_9 = μ_{10} = μ_{11} = μ_{12}$$\n",
    "\n",
    "*Альтернативная гипотеза*: Оценка рецензента зависит от месяца рецензии.\n",
    "\n",
    "$$ H_1 : μ_1 \\neq μ_2  \\neq μ_{3} \\neq μ_{4} \\neq μ_{5} \\neq μ_{6} \\neq μ_{7} \\neq μ_{8} \\neq μ_{9} \\neq μ_{10} \\neq μ_{11} \\neq μ_{12}$$\n",
    "\n"
   ]
  },
  {
   "cell_type": "markdown",
   "metadata": {},
   "source": [
    "**Проверка на нормальность**\n",
    "\n",
    "С помощью теста Шапиро-Уилка проверим, распределён ли признак нормально."
   ]
  },
  {
   "cell_type": "code",
   "execution_count": null,
   "metadata": {},
   "outputs": [],
   "source": [
    "# для сокращения длины кода осуществим проверку с помощью цикла для этого:\n",
    "# проводим тест Шапиро-Уилка\n",
    "for mask in sorted(hotels['review_month'].unique()):\n",
    "    print('Распределение оценок рецензентов в',str(mask)+' году:')\n",
    "    result = stats.shapiro(hotels[hotels['review_month']==mask]['reviewer_score'])\n",
    "    decision_normality(result[1])\n",
    "    print()\n",
    "    \n",
    "print('Количество сравниваемых групп:',len(hotels['review_month'].unique()))"
   ]
  },
  {
   "cell_type": "markdown",
   "metadata": {},
   "source": [
    "**Выберем подходящий статистический тест**\n",
    "\n",
    "Для выбора нужного теста воспользуемся алгоритмом выбора теста. Для этого ответим на следующие вопросы:\n",
    "* Какой тип у исследуемого признака? — Количественный.\n",
    "* Сколько сравниваемых групп? — двенадцать.\n",
    "* Группы зависимы? — Нет.\n",
    "* Признак распределён по нормальному закону? — Нет. \n",
    "\n",
    "Для проверки нашей гипотезы можно использовать критерий Краскела — Уоллиса.\n",
    "\n",
    "**Проведём тест**"
   ]
  },
  {
   "cell_type": "code",
   "execution_count": null,
   "metadata": {},
   "outputs": [],
   "source": [
    "# соберем список из тестируемых зависимостей\n",
    "list_dframes_m =[]\n",
    "# извлечем их из словаря dict_var, полученного на этапе ранее\n",
    "for mask in hotels['review_month'].unique():\n",
    "    list_dframes_m.append(hotels[hotels['review_month']==mask]['reviewer_score'])\n",
    "# проводим тест\n",
    "_, p = stats.kruskal(*list_dframes_m)\n",
    "decision_hypothesis(p)"
   ]
  },
  {
   "cell_type": "markdown",
   "metadata": {},
   "source": [
    "<span style=\"color:#59afe1\">\n",
    "\n",
    "**Вывод**\n",
    "\n",
    "Статистический тест показал, что оценка рецензента зависит от месяца рецензии.  \n",
    "Оставляем данный признак для обучения модели."
   ]
  },
  {
   "cell_type": "code",
   "execution_count": null,
   "metadata": {},
   "outputs": [],
   "source": [
    "# добавим признак review_month в список list_features\n",
    "list_features.append('review_month')"
   ]
  },
  {
   "cell_type": "markdown",
   "metadata": {},
   "source": [
    "<span style=\"color:#59afe1\"> \n",
    "\n",
    "### Обработка признака *hotel_name* <a id='p56'>"
   ]
  },
  {
   "cell_type": "markdown",
   "metadata": {},
   "source": [
    "Проанализируем имена отелей с самыми высокими оценками рецензентов"
   ]
  },
  {
   "cell_type": "code",
   "execution_count": null,
   "metadata": {},
   "outputs": [],
   "source": [
    "# выберем отели с оценкой рецензента больше 8.0\n",
    "mask_top_s = hotels['reviewer_score'] >= 8.0\n",
    "# разбиваем имена отелей на отдельные слова и заполняем ими список\n",
    "list_g_word =[]\n",
    "for  i in list(hotels[mask_top_s]['hotel_name'].value_counts().index):\n",
    "    list_g_word+= i.split()\n",
    "# посчитаем количество повторяющихся слов в с помощью библиотеки Counter\n",
    "count_good_words = Counter(list_g_word)\n",
    "# взглянем на полученный словарь\n",
    "df_gw = pd.DataFrame(count_good_words.items(),columns=['Word','count'])\n",
    "df_gw.sort_values(by='count', ascending=False)"
   ]
  },
  {
   "cell_type": "markdown",
   "metadata": {},
   "source": [
    "Проанализируем имена отелей с самыми низкими оценками рецензентов"
   ]
  },
  {
   "cell_type": "code",
   "execution_count": null,
   "metadata": {},
   "outputs": [],
   "source": [
    "# выберем отели с оценкой рецензента меньше 5.0\n",
    "mask_worst_s = hotels['reviewer_score'] <= 5.0\n",
    "# разбиваем имена отелей на отдельные слова и заполняем ими список\n",
    "list_b_word =[]\n",
    "for  i in list(hotels[mask_worst_s]['hotel_name'].value_counts().index):\n",
    "    list_b_word+= i.split()\n",
    "# посчитаем количество повторяющихся слов в с помощью библиотеки Counter\n",
    "count_bad_words = Counter(list_b_word)\n",
    "# взглянем на полученный словарь\n",
    "df_bw = pd.DataFrame(count_bad_words.items(),columns=['Word','count'])\n",
    "df_bw.sort_values(by='count', ascending=False)"
   ]
  },
  {
   "cell_type": "markdown",
   "metadata": {},
   "source": [
    "Обратим внимание, что в каждом списке есть одинаковые слова.  \n",
    "Причем они имеют практически одинаковый \"вес\" в списках.  \n",
    "Поэтому, удалим из списков повторяющиеся значения."
   ]
  },
  {
   "cell_type": "markdown",
   "metadata": {},
   "source": [
    "Удалим повторяющие значения из списка \"хороших\" слов"
   ]
  },
  {
   "cell_type": "code",
   "execution_count": null,
   "metadata": {},
   "outputs": [],
   "source": [
    "# список слов, полученных удалением из множества \"хороших\" слов множества \"плохих\"\n",
    "list_good_word = list(set(df_gw['Word'])-set(df_bw['Word']))\n",
    "len(list_good_word)"
   ]
  },
  {
   "cell_type": "markdown",
   "metadata": {},
   "source": [
    "Удалим повторяющие значения из списка \"плохих\" слов"
   ]
  },
  {
   "cell_type": "code",
   "execution_count": null,
   "metadata": {},
   "outputs": [],
   "source": [
    "# список слов, полученных удалением из множества \"плохих\" слов множества \"хороших\"\n",
    "list_bad_word = list(set(df_bw['Word'])-set(df_gw['Word']))\n",
    "len(list_bad_word)"
   ]
  },
  {
   "cell_type": "markdown",
   "metadata": {},
   "source": [
    "список \"плохих\" слов пуст -создать соответствующий признак не получится"
   ]
  },
  {
   "cell_type": "markdown",
   "metadata": {},
   "source": [
    "Создадим бинарные признак *good_words*"
   ]
  },
  {
   "cell_type": "code",
   "execution_count": null,
   "metadata": {},
   "outputs": [],
   "source": [
    "# объявим функцию которую будет проверять строку на наличие в ней слов из списка\n",
    "# для этого воспользуемся множествами\n",
    "# проверим множество слов из строки на пересечение с множеством слов из списка\n",
    "def intersection_sets(string,list_words):\n",
    "    set_srt = set(string.split())               # множество слов из строки\n",
    "    set_list = set(list_words)                  # множество слов из списка\n",
    "    intersection = set_srt.isdisjoint(set_list)     # если есть пересечение множеств set_srt и set_list то длина set_intersection больше 0\n",
    "    return not intersection                         # выведем ответ на вопрос есть ли пересечение во множествах в виде булевой переменной"
   ]
  },
  {
   "cell_type": "code",
   "execution_count": null,
   "metadata": {},
   "outputs": [],
   "source": [
    "# создадим признак good_words\n",
    "hotels['good_words'] = hotels['hotel_name'].apply(lambda x: 1 if intersection_sets(x,list_good_word) else 0)"
   ]
  },
  {
   "cell_type": "code",
   "execution_count": null,
   "metadata": {},
   "outputs": [],
   "source": [
    "# посмотрим на полученный результат\n",
    "hotels['good_words'].value_counts()"
   ]
  },
  {
   "cell_type": "markdown",
   "metadata": {},
   "source": [
    "Проанализируем связь признака *good_words* с *reviewer_score*"
   ]
  },
  {
   "cell_type": "code",
   "execution_count": null,
   "metadata": {},
   "outputs": [],
   "source": [
    "fig_6 = go.Figure()\n",
    "# пропишем условия выбора данных\n",
    "mask_g_1 = hotels['good_words'] == 1\n",
    "mask_g_0 = hotels['good_words'] == 0\n",
    "\n",
    "# сформируем список условий и имен\n",
    "list_gw = [[mask_g_1,'good words'],[mask_g_0,'no good words']]\n",
    "\n",
    "# настроим оформление рабочей поверхности\n",
    "fig_6.update_layout(\n",
    "    title ={\n",
    "        'text':'Распределение оценок рецензента в зависимости от наличия в имени  отеля \"хороших\" слов', # Имя рабочей плоскости\n",
    "        'font':{'size':35,'family':\"Times New Roman\"}, # размер и стиль написания имени рабочей плоскости\n",
    "        'x':0.5, # Смешение имени по оси \"x\" на половину рабочей плоскости\n",
    "        },\n",
    "    height = 800,# Высота рабочей плоскости\n",
    "    width = 1600, # Ширина рабочей плоскости\n",
    "    template='simple_white', # зададим тему оформления для рабочей поверхности \n",
    "    )\n",
    "fig_6.update_xaxes(\n",
    "    title = 'Оценка рецензента' # подпишем ось абсцисс\n",
    ")\n",
    "\n",
    "\n",
    "# Добавим диаграммы на рабочую поверхность\n",
    "for mask in list_gw:\n",
    "    fig_6.add_trace(go.Box(\n",
    "        y=hotels[mask[0]]['good_words'],\n",
    "        x=hotels[mask[0]]['reviewer_score'],\n",
    "        boxmean=True,\n",
    "        hoverinfo='x',\n",
    "        name=mask[1])\n",
    "                    )\n",
    "\n",
    "# расположим коробчатые графики горизонтально\n",
    "fig_6.update_traces(\n",
    "    orientation='h'\n",
    ")\n",
    "fig_6.show()"
   ]
  },
  {
   "cell_type": "markdown",
   "metadata": {},
   "source": [
    "<span style=\"color:#59afe1\">\n",
    "\n",
    "**Вывод**\n",
    "\n",
    "Наличие корреляционной положительной связи очевидно."
   ]
  },
  {
   "cell_type": "code",
   "execution_count": null,
   "metadata": {},
   "outputs": [],
   "source": [
    "# добавим признак good_words в список list_features\n",
    "list_features.append('good_words')"
   ]
  },
  {
   "cell_type": "markdown",
   "metadata": {},
   "source": [
    "<span style=\"color:#59afe1\"> \n",
    "\n",
    "### Обработка признака *reviewer_nationality* <a id='p57'>"
   ]
  },
  {
   "cell_type": "markdown",
   "metadata": {},
   "source": [
    "Проанализируем признак *reviewer_nationality* на уникальные значения"
   ]
  },
  {
   "cell_type": "code",
   "execution_count": null,
   "metadata": {},
   "outputs": [],
   "source": [
    "# проанализируем уникальные значения признака salary_currency\n",
    "print(hotels['reviewer_nationality'].value_counts(normalize=True).head(20))\n",
    "# посчитаем какой вес имеют ТОП 4 уникальных значений\n",
    "print('В этом списке первые 49 значений составляют',round(100*hotels['reviewer_nationality'].value_counts(normalize=True).head(49).sum()),\n",
    "      '% от',hotels['reviewer_nationality'].nunique(),'уникальных значений')"
   ]
  },
  {
   "cell_type": "markdown",
   "metadata": {},
   "source": [
    "<span style=\"color:#59afe1\"> \n",
    "\n",
    "О чем говорит анализ признака *reviewer_nationality*:\n",
    " - 176 уникальных значений, по отдельности являются не информативными;\n",
    " - значения, которые составляют 95% от всех уникальных можно выделить в 49 категорий.\n",
    "\n",
    "Вывод: Признак *reviewer_nationality* требует преобразования. Разобьем признак на 50 категории:\n",
    "1. Первые 49 категорий, это те, что вошли в ТОП 4 уникальных значений;\n",
    "2. Все остальные поместим в категорию 'other'"
   ]
  },
  {
   "cell_type": "code",
   "execution_count": null,
   "metadata": {},
   "outputs": [],
   "source": [
    "# получим список ТОП 49 уникальных значений\n",
    "list_rn = hotels['reviewer_nationality'].value_counts(normalize=True).head(49).index\n",
    "\n",
    "# Заполним признак 'reviewer_nationality' в соответствии с выбранной логикой\n",
    "hotels['reviewer_nationality'] = hotels['reviewer_nationality'].apply(lambda x: x if x in list_rn else 'other')"
   ]
  },
  {
   "cell_type": "markdown",
   "metadata": {},
   "source": [
    "Проанализируем распределение оценок рецензента в зависимости от национальности рецензента"
   ]
  },
  {
   "cell_type": "code",
   "execution_count": null,
   "metadata": {},
   "outputs": [],
   "source": [
    "fig_7 = go.Figure()\n",
    "\n",
    "# настроим оформление рабочей поверхности\n",
    "fig_7.update_layout(\n",
    "    title ={\n",
    "        'text':'Распределение оценок рецензента в зависимости от национальности', # Имя рабочей плоскости\n",
    "        'font':{'size':35,'family':\"Times New Roman\"}, # размер и стиль написания имени рабочей плоскости\n",
    "        'x':0.5, # Смешение имени по оси \"x\" на половину рабочей плоскости\n",
    "        },\n",
    "    height = 1600,# Высота рабочей плоскости\n",
    "    width = 1600, # Ширина рабочей плоскости\n",
    "    template='simple_white', # зададим тему оформления для рабочей поверхности \n",
    "    )\n",
    "fig_7.update_xaxes(\n",
    "    title = 'Оценка рецензента' # подпишем ось абсцисс\n",
    ")\n",
    "fig_7.update_yaxes(\n",
    "    type='category',\n",
    "    categoryorder ='mean descending',\n",
    ")\n",
    "\n",
    "# Добавим диаграммы на рабочую поверхность\n",
    "for mask in sorted(hotels['reviewer_nationality'].unique()):\n",
    "    fig_7.add_trace(go.Box(\n",
    "        y=hotels[hotels['reviewer_nationality'] == mask]['reviewer_nationality'],\n",
    "        x=hotels[hotels['reviewer_nationality'] == mask]['reviewer_score'],\n",
    "        boxmean=True,\n",
    "        hoverinfo='x',\n",
    "        name=str(mask)\n",
    "    ))\n",
    "\n",
    "\n",
    "# расположим коробчатые графики горизонтально\n",
    "fig_7.update_traces(\n",
    "    orientation='h'\n",
    ")\n",
    "fig_7.show()"
   ]
  },
  {
   "cell_type": "markdown",
   "metadata": {},
   "source": [
    "Наличие статистически значимой связи очевидно. Для обучения модели кодируем признак reviewer_nationality.  \n",
    "В нашем кодирование номер будет означать более высокие места в ТОП стран по среднему значению оценки рецензента.    \n",
    "Первое место имеет самое большое значение кода."
   ]
  },
  {
   "cell_type": "code",
   "execution_count": null,
   "metadata": {},
   "outputs": [],
   "source": [
    "# составим список ТОП наций по среднему значению оценки рецензента\n",
    "list_top_nationality = list(hotels.groupby('reviewer_nationality')['reviewer_score'].mean().sort_values().index)\n",
    "\n",
    "# составим карту кодирования (Словарь со значениями)\n",
    "dict_map_n ={}\n",
    "for i in range(0,len(list_top_nationality)):\n",
    "    dict_map_n[list_top_nationality[i]]=i+1\n",
    "\n",
    "# создаем объект OrdinalEncoder, col - имя столбца, mapping - словарь с описанием кодировки\n",
    "ord_encoder_n = ce.OrdinalEncoder(mapping=[{\n",
    "\t'col': 'reviewer_nationality',\n",
    "\t'mapping': dict_map_n\n",
    "}])\n",
    "# применяем трансформацию к столбцу\n",
    "hotels['nationality_cod'] = ord_encoder_n.fit_transform(hotels[['reviewer_nationality']])\n",
    "#  проверим корректность замены\n",
    "print(hotels['nationality_cod'].value_counts().head(5),hotels['reviewer_nationality'].value_counts().head(5))"
   ]
  },
  {
   "cell_type": "code",
   "execution_count": null,
   "metadata": {},
   "outputs": [],
   "source": [
    "# добавим признак nationality_cod в список list_features\n",
    "list_features.append('nationality_cod')"
   ]
  },
  {
   "cell_type": "markdown",
   "metadata": {},
   "source": [
    "<span style=\"color:#59afe1\"> \n",
    "\n",
    "### Обработка признаков *positive_review* и *negative_review* <a id='p58'>"
   ]
  },
  {
   "cell_type": "markdown",
   "metadata": {},
   "source": [
    "Составим ТОП friendly слов из отзывов, после которых рецензент оставил наибольшую оценку"
   ]
  },
  {
   "cell_type": "code",
   "execution_count": null,
   "metadata": {},
   "outputs": [],
   "source": [
    "# заполним список friendly_word словами из positive_review\n",
    "list_f_word = []\n",
    "for  i in list(hotels[mask_top_s]['positive_review'].value_counts().index):\n",
    "    list_f_word+= i.split()\n",
    "# посчитаем количество повторяющихся слов в с помощью библиотеки Counter\n",
    "count_friendly_words = Counter(list_f_word)\n",
    "# взглянем на полученный словарь\n",
    "df_fw = pd.DataFrame(count_friendly_words.items(),columns=['Word','count'])\n",
    "df_fw.sort_values(by='count', ascending=False)"
   ]
  },
  {
   "cell_type": "markdown",
   "metadata": {},
   "source": [
    "Составим ТОП not friendly слов из отзывов, после которых рецензент оставил наибольшую оценку"
   ]
  },
  {
   "cell_type": "code",
   "execution_count": null,
   "metadata": {},
   "outputs": [],
   "source": [
    "# заполним список словами из полученной строки\n",
    "list_nf_word = []\n",
    "for  i in list(hotels[mask_worst_s]['negative_review'].value_counts().index):\n",
    "    list_nf_word+= i.split()\n",
    "# посчитаем количество повторяющихся слов в с помощью библиотеки Counter\n",
    "count_nfriendly_words = Counter(list_nf_word)\n",
    "# взглянем на полученный словарь\n",
    "df_nfw = pd.DataFrame(count_nfriendly_words.items(),columns=['Word','count'])\n",
    "df_nfw.sort_values(by='count', ascending=False)"
   ]
  },
  {
   "cell_type": "markdown",
   "metadata": {},
   "source": [
    "Обратим внимание, что в каждом списке есть одинаковые слова.  \n",
    "Причем они имеют практически одинаковый \"вес\" в списках.  \n",
    "Поэтому, удалим из списков повторяющиеся значения."
   ]
  },
  {
   "cell_type": "markdown",
   "metadata": {},
   "source": [
    "удалим повторяющиеся значения из friendly списка"
   ]
  },
  {
   "cell_type": "code",
   "execution_count": null,
   "metadata": {},
   "outputs": [],
   "source": [
    "# множество friendly слов, полученных удалением из множества \"friendly\" слов множества \"not friendly\"\n",
    "set_friendly_word = set(df_fw['Word'])-set(df_nfw['Word'])\n",
    "len(set_friendly_word)"
   ]
  },
  {
   "cell_type": "markdown",
   "metadata": {},
   "source": [
    "удалим повторяющиеся значения из not friendly списка"
   ]
  },
  {
   "cell_type": "code",
   "execution_count": null,
   "metadata": {},
   "outputs": [],
   "source": [
    "# множество not friendly слов, полученных удалением из множества \"not friendly\" слов множества \"friendly\"\n",
    "set_nfriendly_word = set(df_nfw['Word'])-set(df_fw['Word'])\n",
    "len(set_nfriendly_word)"
   ]
  },
  {
   "cell_type": "markdown",
   "metadata": {},
   "source": [
    "создадим бинарные признаки *friendly_words* и *no_friendly_words*"
   ]
  },
  {
   "cell_type": "code",
   "execution_count": null,
   "metadata": {},
   "outputs": [],
   "source": [
    "# создадим признак friendly_words\n",
    "hotels['friendly_words'] = hotels['positive_review'].apply(lambda x: 1 if intersection_sets(x,set_friendly_word) else 0)\n",
    "# посмотрим на полученный результат\n",
    "hotels['friendly_words'].value_counts()"
   ]
  },
  {
   "cell_type": "code",
   "execution_count": null,
   "metadata": {},
   "outputs": [],
   "source": [
    "# создадим признак *no_friendly_words*\n",
    "hotels['no_friendly_words'] = hotels['negative_review'].apply(lambda x: 1 if intersection_sets(x,set_nfriendly_word) else 0)\n",
    "# посмотрим на полученный результат\n",
    "hotels['no_friendly_words'].value_counts()"
   ]
  },
  {
   "cell_type": "markdown",
   "metadata": {},
   "source": [
    "Проанализируем связь полученных признаков с *reviewer_score*"
   ]
  },
  {
   "cell_type": "code",
   "execution_count": null,
   "metadata": {},
   "outputs": [],
   "source": [
    "fig_fw = go.Figure()\n",
    "# пропишем условия выбора данных\n",
    "mask_f_1 = hotels['friendly_words'] == 1\n",
    "mask_f_0 = hotels['friendly_words'] == 0\n",
    "\n",
    "# сформируем список условий и имен\n",
    "list_fw = [[mask_f_1,'friendly words'],[mask_f_0,'usual words']]\n",
    "\n",
    "# настроим оформление рабочей поверхности\n",
    "fig_fw.update_layout(\n",
    "    title ={\n",
    "        'text':'Распределение оценок рецензента в зависимости от наличия в отзыве рецензента \"friendly\" слов', # Имя рабочей плоскости\n",
    "        'font':{'size':35,'family':\"Times New Roman\"}, # размер и стиль написания имени рабочей плоскости\n",
    "        'x':0.5, # Смешение имени по оси \"x\" на половину рабочей плоскости\n",
    "        },\n",
    "    height = 800,# Высота рабочей плоскости\n",
    "    width = 1600, # Ширина рабочей плоскости\n",
    "    template='simple_white', # зададим тему оформления для рабочей поверхности \n",
    "    )\n",
    "fig_fw.update_xaxes(\n",
    "    title = 'Оценка рецензента' # подпишем ось абсцисс\n",
    ")\n",
    "\n",
    "\n",
    "# Добавим диаграммы на рабочую поверхность\n",
    "for mask in list_fw:\n",
    "    fig_fw.add_trace(go.Box(\n",
    "        y=hotels[mask[0]]['friendly_words'],\n",
    "        x=hotels[mask[0]]['reviewer_score'],\n",
    "        boxmean=True,\n",
    "        hoverinfo='x',\n",
    "        name=mask[1])\n",
    "                    )\n",
    "\n",
    "# расположим коробчатые графики горизонтально\n",
    "fig_fw.update_traces(\n",
    "    orientation='h'\n",
    ")\n",
    "fig_fw.show()"
   ]
  },
  {
   "cell_type": "code",
   "execution_count": null,
   "metadata": {},
   "outputs": [],
   "source": [
    "fig_nfw = go.Figure()\n",
    "# пропишем условия выбора данных\n",
    "mask_nf_1 = hotels['no_friendly_words'] == 1\n",
    "mask_nf_0 = hotels['no_friendly_words'] == 0\n",
    "\n",
    "# сформируем список условий и имен\n",
    "list_nfw = [[mask_nf_1,'no friendly words'],[mask_nf_0,'usual words']]\n",
    "\n",
    "# настроим оформление рабочей поверхности\n",
    "fig_nfw.update_layout(\n",
    "    title ={\n",
    "        'text':'Распределение оценок рецензента в зависимости от наличия в отзыве рецензента \"not friendly\" слов', # Имя рабочей плоскости\n",
    "        'font':{'size':35,'family':\"Times New Roman\"}, # размер и стиль написания имени рабочей плоскости\n",
    "        'x':0.5, # Смешение имени по оси \"x\" на половину рабочей плоскости\n",
    "        },\n",
    "    height = 800,# Высота рабочей плоскости\n",
    "    width = 1600, # Ширина рабочей плоскости\n",
    "    template='simple_white', # зададим тему оформления для рабочей поверхности \n",
    "    )\n",
    "fig_nfw.update_xaxes(\n",
    "    title = 'Оценка рецензента' # подпишем ось абсцисс\n",
    ")\n",
    "\n",
    "\n",
    "# Добавим диаграммы на рабочую поверхность\n",
    "for mask in list_nfw:\n",
    "    fig_nfw.add_trace(go.Box(\n",
    "        y=hotels[mask[0]]['no_friendly_words'],\n",
    "        x=hotels[mask[0]]['reviewer_score'],\n",
    "        boxmean=True,\n",
    "        hoverinfo='x',\n",
    "        name=mask[1])\n",
    "                    )\n",
    "\n",
    "# расположим коробчатые графики горизонтально\n",
    "fig_nfw.update_traces(\n",
    "    orientation='h'\n",
    ")\n",
    "fig_nfw.show()"
   ]
  },
  {
   "cell_type": "markdown",
   "metadata": {},
   "source": [
    "<span style=\"color:#59afe1\">\n",
    "\n",
    "**Вывод**\n",
    "\n",
    "Наличие корреляционной положительной связи в случае с признаком *friendly_words*   \n",
    "и корреляционной отрицательной связи в случае с признаком *no_friendly_words* очевидно."
   ]
  },
  {
   "cell_type": "code",
   "execution_count": null,
   "metadata": {},
   "outputs": [],
   "source": [
    "# добавим признаки no_friendly_words и friendly_words в список list_features\n",
    "list_features.extend(['friendly_words','no_friendly_words'])"
   ]
  },
  {
   "cell_type": "markdown",
   "metadata": {},
   "source": [
    "создадим признак *count_positive_reviews*, отражающий общее число позитивный отзывов для отеля.  \n",
    "Анализ признака positive_review показывает, что в нем присутствуют следующие значения:  \n",
    "'No Positive', ' Nothing', ' Nothing ', ' nothing', ' Not much', ' ', которые отражают   \n",
    "отсутствие позитивного отзыва. Общее количество позитивных отзывов будет равно:  \n",
    "(общее число позитивных отзывов) = (все отзывы) - (отзывы из списка выше)  "
   ]
  },
  {
   "cell_type": "code",
   "execution_count": null,
   "metadata": {},
   "outputs": [],
   "source": [
    "# выберем из positive_review позитивные отзывы\n",
    "list_n_positive_review =['No Positive', ' Nothing', ' Nothing ', ' nothing', ' Not much', ' ',' Almost nothing']   # список не позитивных отзывов\n",
    "mask_p_reviews = hotels['positive_review'].apply(lambda x: x not in list_n_positive_review)\n",
    "# создадим Series с именем отеля и количеством позитивных отзывов рецензентов\n",
    "s_cp = pd.Series(hotels[mask_p_reviews].groupby(by='hotel_name')['positive_review'].count(), name='count_positive_reviews')\n",
    "# посчитаем общее количество отзывов для каждого отеля и запишем результат в новый Series\n",
    "s_cpg = pd.Series(hotels.groupby(by='hotel_name')['positive_review'].count(), name='count_reviews')"
   ]
  },
  {
   "cell_type": "code",
   "execution_count": null,
   "metadata": {},
   "outputs": [],
   "source": [
    "# Проверим что число отелей в s_cp совпадает с общим числом отелей\n",
    "s_cp.count()==hotels['hotel_name'].value_counts().count()"
   ]
  },
  {
   "cell_type": "code",
   "execution_count": null,
   "metadata": {},
   "outputs": [],
   "source": [
    "# объединим полученные Series в Data Frame\n",
    "df_pr =pd.concat([s_cp,s_cpg],axis=1)\n",
    "# добавим признак percentage_positive_reviews, отражающий долю позитивных отзывов от общего количества positive_reviews\n",
    "df_pr['percentage_positive_reviews'] = df_pr['count_positive_reviews']/df_pr['count_reviews']\n",
    "# посмотрим на результат\n",
    "df_pr"
   ]
  },
  {
   "cell_type": "code",
   "execution_count": null,
   "metadata": {},
   "outputs": [],
   "source": [
    "# \"перенесем\" признак count_positive_reviews в основной DataFrame\n",
    "hotels['count_positive_reviews'] = hotels['hotel_name'].apply(lambda x: df_pr.loc[x][0])\n",
    "# \"перенесем\" признак percentage_positive_reviews в основной DataFrame\n",
    "hotels['percentage_positive_reviews'] = hotels['hotel_name'].apply(lambda x: df_pr.loc[x][2])\n",
    "# посмотрим на результат\n",
    "hotels[['hotel_name','count_positive_reviews','percentage_positive_reviews']].head(10)"
   ]
  },
  {
   "cell_type": "markdown",
   "metadata": {},
   "source": [
    "проанализируем корреляционную связь признаков *count_positive_reviews*, percentage_positive_reviews* и *reviewer_score*"
   ]
  },
  {
   "cell_type": "code",
   "execution_count": null,
   "metadata": {},
   "outputs": [],
   "source": [
    "# проанализируем корреляционную связь полученного признака и reviewer_score\n",
    "# соберем матрицу корреляции для выбранных признаков\n",
    "df_corr_cpr = hotels[['count_positive_reviews','percentage_positive_reviews','reviewer_score']].corr()\n",
    "df_corr_cpr"
   ]
  },
  {
   "cell_type": "markdown",
   "metadata": {},
   "source": [
    "<span style=\"color:#59afe1\">\n",
    "\n",
    "**Вывод**\n",
    "\n",
    "Анализ показал очень слабую корреляционную связь признака *count_positive_reviews* и *reviewer_score*.  \n",
    "Данный признак не будем добавлять к списку признаков для обучения модели.  \n",
    "При этом, признак *percentage_positive_reviews* обладает слабой положительной корреляционной связью с  \n",
    "признаком *reviewer_score*. Добавим этот признак к обучению модели."
   ]
  },
  {
   "cell_type": "code",
   "execution_count": null,
   "metadata": {},
   "outputs": [],
   "source": [
    "# добавим признак percentage_positive_reviews в список list_features\n",
    "list_features.append('percentage_positive_reviews')"
   ]
  },
  {
   "cell_type": "markdown",
   "metadata": {},
   "source": [
    "<span style=\"color:#59afe1\"> \n",
    "\n",
    "### Обработка признака *tags* <a id='p59'>"
   ]
  },
  {
   "cell_type": "markdown",
   "metadata": {},
   "source": [
    "#### выделим признак бинарный признак *with a pet* отражающий наличие животных у посетителя"
   ]
  },
  {
   "cell_type": "code",
   "execution_count": null,
   "metadata": {},
   "outputs": [],
   "source": [
    "# если посетитель с животными ставим 1\n",
    "hotels['with_a_pet'] =hotels['tags'].apply(lambda x: 1 if 'With a pet' in x else 0 )\n",
    "# посмотрим на результат\n",
    "print(hotels[['tags','with_a_pet']].head(5))\n",
    "print(hotels[hotels['with_a_pet'] == 1][['tags','with_a_pet']].head(5))\n"
   ]
  },
  {
   "cell_type": "markdown",
   "metadata": {},
   "source": [
    "Проанализируем связь полученного признака с *reviewer_score*"
   ]
  },
  {
   "cell_type": "code",
   "execution_count": null,
   "metadata": {},
   "outputs": [],
   "source": [
    "fig_pet = go.Figure()\n",
    "# пропишем условия выбора данных\n",
    "mask_p_1 = hotels['with_a_pet'] == 1\n",
    "mask_p_0 = hotels['with_a_pet'] == 0\n",
    "\n",
    "# сформируем список условий и имен\n",
    "list_pet = [[mask_p_1,'with a pet'],[mask_p_0,'without pet']]\n",
    "\n",
    "# настроим оформление рабочей поверхности\n",
    "fig_pet.update_layout(\n",
    "    title ={\n",
    "        'text':'Распределение оценок рецензента в зависимости от наличия у него животных', # Имя рабочей плоскости\n",
    "        'font':{'size':35,'family':\"Times New Roman\"}, # размер и стиль написания имени рабочей плоскости\n",
    "        'x':0.5, # Смешение имени по оси \"x\" на половину рабочей плоскости\n",
    "        },\n",
    "    height = 800,# Высота рабочей плоскости\n",
    "    width = 1600, # Ширина рабочей плоскости\n",
    "    template='simple_white', # зададим тему оформления для рабочей поверхности \n",
    "    )\n",
    "fig_pet.update_xaxes(\n",
    "    title = 'Оценка рецензента' # подпишем ось абсцисс\n",
    ")\n",
    "\n",
    "\n",
    "# Добавим диаграммы на рабочую поверхность\n",
    "for mask in list_pet:\n",
    "    fig_pet.add_trace(go.Box(\n",
    "        y=hotels[mask[0]]['with_a_pet'],\n",
    "        x=hotels[mask[0]]['reviewer_score'],\n",
    "        boxmean=True,\n",
    "        hoverinfo='x',\n",
    "        name=mask[1])\n",
    "                    )\n",
    "\n",
    "# расположим коробчатые графики горизонтально\n",
    "fig_pet.update_traces(\n",
    "    orientation='h'\n",
    ")\n",
    "fig_pet.show()"
   ]
  },
  {
   "cell_type": "markdown",
   "metadata": {},
   "source": [
    "Из анализа графика можно сказать, что оценка отеля отличается в зависимости от наличия животных у посетителя, но эти отличия не выгладят статистически значимыми.  \n",
    "Проведем для представленных распределений статистический тест."
   ]
  },
  {
   "cell_type": "markdown",
   "metadata": {},
   "source": [
    "Как соотносятся оценки рецензентов в зависимости от наличия у них животных?\n",
    "\n",
    "**Сформулируем нулевую и альтернативные гипотезы**\n",
    "\n",
    "*Нулевая гипотеза*:  Оценка резидента без животных ($μ_1$) такая же либо меньше, чем у не резидента с животными ($μ_2$):\n",
    "\n",
    "\n",
    "$$ H_0 : μ_1=<μ_2$$\n",
    "\n",
    "*Альтернативная гипотеза*:  Оценка резидента без животных ($μ_1$) больше, чем оценка не резидента с животными ($μ_2$):\n",
    "\n",
    "$$ H_1 : μ_1>μ_2$$"
   ]
  },
  {
   "cell_type": "markdown",
   "metadata": {},
   "source": [
    "**Проверка на нормальность**\n",
    "\n",
    "С помощью теста Шапиро-Уилка проверим, распределён ли признак нормально. Напомним гипотезы теста Шапиро-Уилка:\n",
    "\n",
    "*Нулевая гипотеза* ($H_0$): распределение данные является нормальным.\n",
    "\n",
    "*Альтернативная гипотеза* ($H_1$): распределение данных отлично от нормального."
   ]
  },
  {
   "cell_type": "code",
   "execution_count": null,
   "metadata": {},
   "outputs": [],
   "source": [
    "# распределение оценок \n",
    "rs_p1 = hotels[mask_p_1]['reviewer_score']\n",
    "rs_p0 =hotels[mask_p_0]['reviewer_score']\n",
    "\n",
    "# проводим тест Шапиро-Уилка\n",
    "print('Для рецензентов с животными:')\n",
    "result = stats.shapiro(rs_p1)\n",
    "decision_normality(result[1])\n",
    "\n",
    "print()\n",
    "print('Для рецензентов без животных:')\n",
    "result = stats.shapiro(rs_p0)\n",
    "decision_normality(result[1])"
   ]
  },
  {
   "cell_type": "markdown",
   "metadata": {},
   "source": [
    "**Выберем подходящий статистический тест**\n",
    "\n",
    "Для выбора нужного теста воспользуемся алгоритмом выбора теста. Для этого ответим на следующие вопросы:\n",
    "* Какой тип у признака? — Количественный.\n",
    "* Сколько сравниваемых групп? — Две.\n",
    "* Группы зависимы? — Нет.\n",
    "* Признак распределён по нормальному закону? — Нет.\n",
    "\n",
    "Чтобы проверить нашу гипотезу, можно использовать U-критерий Манна — Уитни для сравнения распределений на основе рангов.\n",
    "\n",
    "**Проведём тест**"
   ]
  },
  {
   "cell_type": "code",
   "execution_count": null,
   "metadata": {},
   "outputs": [],
   "source": [
    "# проводим тест\n",
    "_, p = stats.mannwhitneyu(rs_p0,rs_p1, alternative='greater')\n",
    "decision_hypothesis(p)"
   ]
  },
  {
   "cell_type": "markdown",
   "metadata": {},
   "source": [
    "<span style=\"color:#59afe1\">\n",
    "\n",
    "**Вывод**\n",
    "\n",
    "Статистический тест показал отсутствие статистически значимой разницы между оценкой отеля от рецензента с животным и без них.  \n",
    "Признак *with_a_pet* не будет участвовать в обучении модели."
   ]
  },
  {
   "cell_type": "markdown",
   "metadata": {},
   "source": [
    "#### выдели признак *type_of_trip* отражающий характер поездки"
   ]
  },
  {
   "cell_type": "code",
   "execution_count": null,
   "metadata": {},
   "outputs": [],
   "source": [
    "# 0, если отсутствует информация \n",
    "# 1, если Leisure trip\n",
    "# 2, если Business trip\n",
    "hotels['type_of_trip'] =hotels['tags'].apply(lambda x: 0 if 'trip' not in x else (1 if 'Leisure' in x else 2) )\n",
    "# посмотрим на результат\n",
    "print(hotels[hotels['type_of_trip'] == 0][['tags','type_of_trip']].head(5))\n",
    "print(hotels[hotels['type_of_trip'] == 1][['tags','type_of_trip']].head(5))\n",
    "print(hotels[hotels['type_of_trip'] == 2][['tags','type_of_trip']].head(5))"
   ]
  },
  {
   "cell_type": "markdown",
   "metadata": {},
   "source": []
  },
  {
   "cell_type": "markdown",
   "metadata": {},
   "source": [
    "Проанализируем связь полученного признака с *reviewer_score*"
   ]
  },
  {
   "cell_type": "code",
   "execution_count": null,
   "metadata": {},
   "outputs": [],
   "source": [
    "fig_trip = go.Figure()\n",
    "# пропишем условия выбора данных\n",
    "mask_trip_0 = hotels['type_of_trip'] == 0\n",
    "mask_trip_1 = hotels['type_of_trip'] == 1\n",
    "mask_trip_2 = hotels['type_of_trip'] == 2\n",
    "\n",
    "# сформируем список условий и имен\n",
    "list_trip = [[mask_trip_0,'without_info'],[mask_trip_1,'Leisure trip'],[mask_trip_2,'Business trip']]\n",
    "\n",
    "# настроим оформление рабочей поверхности\n",
    "fig_trip.update_layout(\n",
    "    title ={\n",
    "        'text':'Распределение оценок рецензента в зависимости от характера поездки', # Имя рабочей плоскости\n",
    "        'font':{'size':35,'family':\"Times New Roman\"}, # размер и стиль написания имени рабочей плоскости\n",
    "        'x':0.5, # Смешение имени по оси \"x\" на половину рабочей плоскости\n",
    "        },\n",
    "    height = 800,# Высота рабочей плоскости\n",
    "    width = 1600, # Ширина рабочей плоскости\n",
    "    template='simple_white', # зададим тему оформления для рабочей поверхности \n",
    "    )\n",
    "fig_trip.update_xaxes(\n",
    "    title = 'Оценка рецензента' # подпишем ось абсцисс\n",
    ")\n",
    "fig_trip.update_yaxes(\n",
    "    type='category',\n",
    "    categoryorder ='mean ascending',\n",
    ")\n",
    "\n",
    "\n",
    "# Добавим диаграммы на рабочую поверхность\n",
    "for mask in list_trip:\n",
    "    fig_trip.add_trace(go.Box(\n",
    "        y=hotels[mask[0]]['type_of_trip'],\n",
    "        x=hotels[mask[0]]['reviewer_score'],\n",
    "        boxmean=True,\n",
    "        hoverinfo='x',\n",
    "        name=mask[1])\n",
    "                    )\n",
    "\n",
    "# расположим коробчатые графики горизонтально\n",
    "fig_trip.update_traces(\n",
    "    orientation='h'\n",
    ")\n",
    "fig_trip.show()"
   ]
  },
  {
   "cell_type": "markdown",
   "metadata": {},
   "source": [
    "<span style=\"color:#59afe1\">\n",
    "\n",
    "**Вывод**\n",
    "\n",
    "Наличие статистически значимой связи очевидно."
   ]
  },
  {
   "cell_type": "code",
   "execution_count": null,
   "metadata": {},
   "outputs": [],
   "source": [
    "# добавим признак type_of_trip в список list_features\n",
    "list_features.append('type_of_trip')"
   ]
  },
  {
   "cell_type": "markdown",
   "metadata": {},
   "source": [
    "####  выдели признак *nights_to_stay* отражающий количество ночей на которые остался посетитель"
   ]
  },
  {
   "cell_type": "code",
   "execution_count": null,
   "metadata": {},
   "outputs": [],
   "source": [
    "# NAN, при отсутствие информации. после нулевые значения заменим на среднее количество ночей.\n",
    "# количество ночей, при наличие информации найдем с помощью регулярных выражений\n",
    "hotels['nights_to_stay'] =hotels['tags'].apply(lambda x: np.nan if 'Stayed' not in x else int(re.findall('Stayed \\d*',x)[0][7:]) )\n",
    "# посмотрим на количество пропущенных значений\n",
    "hotels['nights_to_stay'].isnull().value_counts()"
   ]
  },
  {
   "cell_type": "code",
   "execution_count": null,
   "metadata": {},
   "outputs": [],
   "source": [
    "# отыщем среднее число ночей округленное до целого\n",
    "mean_count_nights = round(hotels[hotels['nights_to_stay']!=0]['nights_to_stay'].mean())\n",
    "# заменим пропуски в признаке nights_to_stay найденным значением\n",
    "hotels['nights_to_stay'].fillna(mean_count_nights,inplace=True)\n",
    "# посмотрим на результат\n",
    "hotels['nights_to_stay'].isnull().value_counts()"
   ]
  },
  {
   "cell_type": "markdown",
   "metadata": {},
   "source": [
    "Проанализируем корреляционную связь полученного признака с *reviewer_score*"
   ]
  },
  {
   "cell_type": "code",
   "execution_count": null,
   "metadata": {},
   "outputs": [],
   "source": [
    "# соберем матрицу корреляции для выбранных признаков\n",
    "df_corr_pr = hotels[['nights_to_stay','reviewer_score']].corr()\n",
    "df_corr_pr"
   ]
  },
  {
   "cell_type": "markdown",
   "metadata": {},
   "source": [
    "<span style=\"color:#59afe1\">\n",
    "\n",
    "**Вывод**\n",
    "\n",
    "Корреляционный анализ показал отсутствие статистически значимой корреляционной связи между признаками."
   ]
  },
  {
   "cell_type": "markdown",
   "metadata": {},
   "source": [
    "####  выдели бинарный признак *view* отражающий опции номера посетителя (наличие вида)"
   ]
  },
  {
   "cell_type": "code",
   "execution_count": null,
   "metadata": {},
   "outputs": [],
   "source": [
    "# если номер с видом ставим 1\n",
    "hotels['view'] =hotels['tags'].apply(lambda x: 1 if 'View' in x else 0 )\n",
    "# проанализируем результат на результат\n",
    "hotels['view'].value_counts()\n"
   ]
  },
  {
   "cell_type": "markdown",
   "metadata": {},
   "source": [
    "Проанализируем связь полученного признака с *reviewer_score*"
   ]
  },
  {
   "cell_type": "code",
   "execution_count": null,
   "metadata": {},
   "outputs": [],
   "source": [
    "fig_view = go.Figure()\n",
    "# пропишем условия выбора данных\n",
    "mask_v_1 = hotels['view'] == 1\n",
    "mask_v_0 = hotels['view'] == 0\n",
    "\n",
    "# сформируем список условий и имен\n",
    "list_view = [[mask_v_1,'with a view'],[mask_v_0,'without view']]\n",
    "\n",
    "# настроим оформление рабочей поверхности\n",
    "fig_view.update_layout(\n",
    "    title ={\n",
    "        'text':'Распределение оценок рецензента в зависимости от наличия view номера', # Имя рабочей плоскости\n",
    "        'font':{'size':35,'family':\"Times New Roman\"}, # размер и стиль написания имени рабочей плоскости\n",
    "        'x':0.5, # Смешение имени по оси \"x\" на половину рабочей плоскости\n",
    "        },\n",
    "    height = 800,# Высота рабочей плоскости\n",
    "    width = 1600, # Ширина рабочей плоскости\n",
    "    template='simple_white', # зададим тему оформления для рабочей поверхности \n",
    "    )\n",
    "fig_view.update_xaxes(\n",
    "    title = 'Оценка рецензента' # подпишем ось абсцисс\n",
    ")\n",
    "\n",
    "\n",
    "# Добавим диаграммы на рабочую поверхность\n",
    "for mask in list_view:\n",
    "    fig_view.add_trace(go.Box(\n",
    "        y=hotels[mask[0]]['view'],\n",
    "        x=hotels[mask[0]]['reviewer_score'],\n",
    "        boxmean=True,\n",
    "        hoverinfo='x',\n",
    "        name=mask[1])\n",
    "                    )\n",
    "\n",
    "# расположим коробчатые графики горизонтально\n",
    "fig_view.update_traces(\n",
    "    orientation='h'\n",
    ")\n",
    "fig_view.show()"
   ]
  },
  {
   "cell_type": "markdown",
   "metadata": {},
   "source": [
    "<span style=\"color:#59afe1\">\n",
    "\n",
    "**Вывод**\n",
    "\n",
    "Наличие статистически значимой связи очевидно."
   ]
  },
  {
   "cell_type": "code",
   "execution_count": null,
   "metadata": {},
   "outputs": [],
   "source": [
    "# добавим признак view в список list_features\n",
    "list_features.append('view')"
   ]
  },
  {
   "cell_type": "markdown",
   "metadata": {},
   "source": [
    "####   выдели категориальный признак *type_of_premium_room* отражающий тип номера повышенной комфортности"
   ]
  },
  {
   "cell_type": "code",
   "execution_count": null,
   "metadata": {},
   "outputs": [],
   "source": [
    "# комнатой уровня премиум будем считать : Superior, Deluxe, Suite, Luxury\n",
    "# 0, если комната не из списка premium\n",
    "# 1, если Superior\n",
    "# 2, если Deluxe\n",
    "# 3, если Suite\n",
    "# 4, если Luxury\n",
    "\n",
    "hotels['type_of_premium_room'] =hotels['tags'].apply(lambda x: 4 if 'Luxury' in x else (3 if 'Suite' in x else (2 if 'Deluxe' in x else (1 if 'Superior' in x else 0))) )\n",
    "# посмотрим на результат\n",
    "hotels['type_of_premium_room'].value_counts()"
   ]
  },
  {
   "cell_type": "markdown",
   "metadata": {},
   "source": [
    "Проанализируем связь полученного признака с *reviewer_score*"
   ]
  },
  {
   "cell_type": "code",
   "execution_count": null,
   "metadata": {},
   "outputs": [],
   "source": [
    "fig_room = go.Figure()\n",
    "# пропишем условия выбора данных\n",
    "mask_room_0 = hotels['type_of_premium_room'] == 0\n",
    "mask_room_1 = hotels['type_of_premium_room'] == 1\n",
    "mask_room_2 = hotels['type_of_premium_room'] == 2\n",
    "mask_room_3 = hotels['type_of_premium_room'] == 3\n",
    "mask_room_4 = hotels['type_of_premium_room'] == 4\n",
    "\n",
    "# сформируем список условий и имен\n",
    "list_room = [[mask_room_0,'usual room'],[mask_room_1,'Superior room'],[mask_room_2,'Deluxe room'],[mask_room_3,'Suite room'],[mask_room_4,'Luxury room']]\n",
    "\n",
    "# настроим оформление рабочей поверхности\n",
    "fig_room.update_layout(\n",
    "    title ={\n",
    "        'text':'Распределение оценок рецензента в зависимости от типа комнаты', # Имя рабочей плоскости\n",
    "        'font':{'size':35,'family':\"Times New Roman\"}, # размер и стиль написания имени рабочей плоскости\n",
    "        'x':0.5, # Смешение имени по оси \"x\" на половину рабочей плоскости\n",
    "        },\n",
    "    height = 800,# Высота рабочей плоскости\n",
    "    width = 1600, # Ширина рабочей плоскости\n",
    "    template='simple_white', # зададим тему оформления для рабочей поверхности \n",
    "    )\n",
    "fig_room.update_xaxes(\n",
    "    title = 'Оценка рецензента' # подпишем ось абсцисс\n",
    ")\n",
    "fig_room.update_yaxes(\n",
    "    type='category',\n",
    "    categoryorder ='mean ascending',\n",
    ")\n",
    "\n",
    "\n",
    "# Добавим диаграммы на рабочую поверхность\n",
    "for mask in list_room:\n",
    "    fig_room.add_trace(go.Box(\n",
    "        y=hotels[mask[0]]['type_of_premium_room'],\n",
    "        x=hotels[mask[0]]['reviewer_score'],\n",
    "        boxmean=True,\n",
    "        hoverinfo='x',\n",
    "        name=mask[1])\n",
    "                    )\n",
    "\n",
    "# расположим коробчатые графики горизонтально\n",
    "fig_room.update_traces(\n",
    "    orientation='h'\n",
    ")\n",
    "fig_room.show()"
   ]
  },
  {
   "cell_type": "markdown",
   "metadata": {},
   "source": [
    "<span style=\"color:#59afe1\">\n",
    "\n",
    "**Вывод**\n",
    "\n",
    "Наличие статистически значимой связи очевидно."
   ]
  },
  {
   "cell_type": "code",
   "execution_count": null,
   "metadata": {},
   "outputs": [],
   "source": [
    "# добавим признак type_of_premium_room в список list_features\n",
    "list_features.append('type_of_premium_room')"
   ]
  },
  {
   "cell_type": "markdown",
   "metadata": {},
   "source": [
    "<span style=\"color:#59afe1\"> \n",
    "\n",
    "### Обработка признака *lat* и *lng* <a id='p510'>"
   ]
  },
  {
   "cell_type": "code",
   "execution_count": null,
   "metadata": {},
   "outputs": [],
   "source": [
    "hotels[['lat','lng']].isnull().value_counts()"
   ]
  },
  {
   "cell_type": "markdown",
   "metadata": {},
   "source": [
    "кака показывает анализ в нашей выборке есть отели у которых отсутствует информация   \n",
    "о их географическом положение. Отыщем эти отели."
   ]
  },
  {
   "cell_type": "code",
   "execution_count": null,
   "metadata": {},
   "outputs": [],
   "source": [
    "# получим список отелей с пропусками гео данных \n",
    "list_without_geo = list(hotels[hotels['lat'].isnull()]['hotel_name'].unique())\n",
    "list_without_geo"
   ]
  },
  {
   "cell_type": "code",
   "execution_count": null,
   "metadata": {},
   "outputs": [],
   "source": [
    "# создадим Data frame c отелями из списка list_without_geo и их геоданными\n",
    "df_hotel_w_geo =pd.DataFrame(\n",
    "    index =list_without_geo,\n",
    "    columns = ['lat','lng']\n",
    ")\n",
    "# заполним геоданных выбранных отелей с помощью библиотеки geopy.geocoders\n",
    "# учтем тот факт, что некоторые имена отелей не сможет отыскать библиотека\n",
    "# на этот случай используем конструкцию try-except\n",
    "# найдем список отелей с \"не точными\" именами\n",
    "list_not_correct_name = []\n",
    "for hotel_name in df_hotel_w_geo.index:\n",
    "    try:\n",
    "        loc = Nominatim(user_agent='hotel_name')\n",
    "        getloc = loc.geocode(hotel_name)\n",
    "        df_hotel_w_geo['lat'][hotel_name] = getloc.latitude\n",
    "        df_hotel_w_geo['lng'][hotel_name] = getloc.longitude\n",
    "    except AttributeError:\n",
    "        list_not_correct_name.append(hotel_name)\n",
    "# посмотрим на результат\n",
    "df_hotel_w_geo"
   ]
  },
  {
   "cell_type": "code",
   "execution_count": null,
   "metadata": {},
   "outputs": [],
   "source": [
    "# посмотрим на список отелей с не корректными именами\n",
    "list_not_correct_name"
   ]
  },
  {
   "cell_type": "code",
   "execution_count": null,
   "metadata": {},
   "outputs": [],
   "source": [
    "# в ручную отыщем для них адреса\n",
    "list_correct_address =['Josefstädter Str. 10-12, 1080 Wien, Австрия',\n",
    "                       '4 Rue de la Pépinière, 75008 Paris, Франция',\n",
    "                       'Sieveringer Str. 4, 1190 Wien, Австрия',\n",
    "                       'Grünentorgasse 30, 1090 Wien, Австрия',\n",
    "                       'Währinger Str. 12, 1090 Wien, Австрия',\n",
    "                       '20 rue de la Gaité, 75014 PARIS, France ']"
   ]
  },
  {
   "cell_type": "code",
   "execution_count": null,
   "metadata": {},
   "outputs": [],
   "source": [
    "# создаем пустой словарь\n",
    "dict_correct_address ={}\n",
    "# составим словарь (имя отеля - корректный адрес)\n",
    "for i in range(len(list_not_correct_name)):\n",
    "    dict_correct_address[list_not_correct_name[i]] = list_correct_address[i]\n",
    "\n",
    "dict_correct_address"
   ]
  },
  {
   "cell_type": "code",
   "execution_count": null,
   "metadata": {},
   "outputs": [],
   "source": [
    "for hotel,address in dict_correct_address.items():\n",
    "    print(hotel)\n",
    "    print(address)\n",
    "    "
   ]
  },
  {
   "cell_type": "code",
   "execution_count": null,
   "metadata": {},
   "outputs": [],
   "source": [
    "# повторно заполним df_hotel_w_geo\n",
    "list_not_correct_name = []\n",
    "for hotel_name,address in dict_correct_address.items():\n",
    "    try:\n",
    "        loc = Nominatim(user_agent='hotel_name')\n",
    "        getloc = loc.geocode(address)\n",
    "        df_hotel_w_geo['lat'][hotel_name] = getloc.latitude\n",
    "        df_hotel_w_geo['lng'][hotel_name] = getloc.longitude\n",
    "    except AttributeError:\n",
    "        list_not_correct_name.append(hotel_name)\n",
    "# посмотрим на результат\n",
    "df_hotel_w_geo"
   ]
  },
  {
   "cell_type": "code",
   "execution_count": null,
   "metadata": {},
   "outputs": [],
   "source": [
    "# проверяем что список list_not_correct_name пуст\n",
    "list_not_correct_name"
   ]
  },
  {
   "cell_type": "code",
   "execution_count": null,
   "metadata": {},
   "outputs": [],
   "source": [
    "# заполним недостающими данными признак lat основной Data Frame\n",
    "hotels['lat'] = hotels.apply(lambda x: df_hotel_w_geo['lat'][x['hotel_name']] if x['hotel_name'] in df_hotel_w_geo.index else x['lat'],axis=1)\n",
    "# проверим результат\n",
    "hotels['lat'].notnull().value_counts()"
   ]
  },
  {
   "cell_type": "code",
   "execution_count": null,
   "metadata": {},
   "outputs": [],
   "source": [
    "# заполним недостающими данными признак lng основной Data Frame\n",
    "hotels['lng'] = hotels.apply(lambda x: df_hotel_w_geo['lng'][x['hotel_name']] if x['hotel_name'] in df_hotel_w_geo.index else x['lng'],axis=1)\n",
    "# проверим результат\n",
    "hotels['lng'].notnull().value_counts()"
   ]
  },
  {
   "cell_type": "markdown",
   "metadata": {},
   "source": [
    "создадим признаки с координатами центра города "
   ]
  },
  {
   "cell_type": "code",
   "execution_count": null,
   "metadata": {},
   "outputs": [],
   "source": [
    "# получим список городов\n",
    "list_cities = hotels['city'].value_counts().index\n",
    "list_cities"
   ]
  },
  {
   "cell_type": "code",
   "execution_count": null,
   "metadata": {},
   "outputs": [],
   "source": [
    "# создадим Data frame c городами из списка list_cities и их геоданными\n",
    "df_cities_geo =pd.DataFrame(\n",
    "    index =list_cities,\n",
    "    columns = ['lat','lng']\n",
    ")\n",
    "# заполним геоданных выбранных отелей с помощью библиотеки geopy.geocoders\n",
    "for city in df_cities_geo.index:\n",
    "        loc = Nominatim(user_agent='hotel_name')\n",
    "        getloc = loc.geocode(city)\n",
    "        df_cities_geo['lat'][city] = getloc.latitude\n",
    "        df_cities_geo['lng'][city] = getloc.longitude\n",
    "\n",
    "# посмотрим на результат\n",
    "df_cities_geo"
   ]
  },
  {
   "cell_type": "code",
   "execution_count": null,
   "metadata": {},
   "outputs": [],
   "source": [
    "# в основном Data Frame создадим признаки с координатами центра города\n",
    "hotels['city_center_lat'] = hotels['city'].apply(lambda x: df_cities_geo['lat'][x])\n",
    "hotels['city_center_lng'] = hotels['city'].apply(lambda x: df_cities_geo['lng'][x])\n",
    "# проверим результат\n",
    "hotels[['city','city_center_lat','city_center_lng']].head(5)"
   ]
  },
  {
   "cell_type": "markdown",
   "metadata": {},
   "source": [
    "создадим признак *distance_to_center*≤ показывающий расстояние от центра города до отеля"
   ]
  },
  {
   "cell_type": "code",
   "execution_count": null,
   "metadata": {},
   "outputs": [],
   "source": [
    "# для создания признака используем библиотеку geopy.distance\n",
    "hotels['distance_to_center'] = hotels.apply(lambda x: round(geodesic((x['city_center_lat'],x['city_center_lng']),(x['lat'],x['lng'])).kilometers,3),axis=1)\n",
    "# проверим результат\n",
    "hotels[['hotel_name','city','distance_to_center']]"
   ]
  },
  {
   "cell_type": "markdown",
   "metadata": {},
   "source": [
    "Проанализируем корреляционную связь полученного признака с *reviewer_score*"
   ]
  },
  {
   "cell_type": "code",
   "execution_count": null,
   "metadata": {},
   "outputs": [],
   "source": [
    "# соберем матрицу корреляции для выбранных признаков\n",
    "df_corr_pr = hotels[['distance_to_center','reviewer_score']].corr()\n",
    "df_corr_pr"
   ]
  },
  {
   "cell_type": "markdown",
   "metadata": {},
   "source": [
    "<span style=\"color:#59afe1\">\n",
    "\n",
    "**Вывод**\n",
    "\n",
    "Корреляционный анализ показал отсутствие статистически значимой корреляционной связи между признаками."
   ]
  },
  {
   "cell_type": "markdown",
   "metadata": {},
   "source": [
    "<span style=\"color:#59afe1\"> \n",
    "\n",
    "### Выбор признаков для обучения модели <a id='p511'>"
   ]
  },
  {
   "cell_type": "markdown",
   "metadata": {},
   "source": [
    "После проведения разведывательного анализа был получен список list_features с признаками для обучения модели"
   ]
  },
  {
   "cell_type": "code",
   "execution_count": null,
   "metadata": {},
   "outputs": [],
   "source": [
    "# добавим в список list_features целевой признак reviewer_score\n",
    "list_features.append('reviewer_score')"
   ]
  },
  {
   "cell_type": "code",
   "execution_count": null,
   "metadata": {},
   "outputs": [],
   "source": [
    "# взглянем на полученный список list_features\n",
    "print(list_features)\n",
    "print('количество признаков:', len(list_features))"
   ]
  },
  {
   "cell_type": "code",
   "execution_count": null,
   "metadata": {},
   "outputs": [],
   "source": [
    "# соберем Data Frame с полученным списком признаков\n",
    "df_for_model = hotels[list_features]\n",
    "# посмотрим на полученный Data Frame\n",
    "df_for_model.head(5)"
   ]
  },
  {
   "cell_type": "code",
   "execution_count": null,
   "metadata": {},
   "outputs": [],
   "source": [
    "df_for_model.info()"
   ]
  },
  {
   "cell_type": "markdown",
   "metadata": {},
   "source": [
    "<span style=\"color:#59afe1\"> \n",
    "\n",
    "## ПРОВЕРКА ОБУЧАЮЩИХ ПРИЗНАКОВ<a id='p6'>"
   ]
  },
  {
   "cell_type": "code",
   "execution_count": null,
   "metadata": {},
   "outputs": [],
   "source": [
    "# Разбиваем датафрейм на части, необходимые для обучения и тестирования модели  \n",
    "# Х — данные с информацией об отелях, у — целевая переменная (оценка рецензента)  \n",
    "X = df_for_model.drop(['reviewer_score'], axis = 1)  \n",
    "y = df_for_model['reviewer_score']  \n",
    "      \n",
    "# Наборы данных с меткой \"train\" будут использоваться для обучения модели, \"test\" — для тестирования.  \n",
    "# Для тестирования мы будем использовать 25 % от исходного датасета.  \n",
    "X_train, X_test, y_train, y_test = train_test_split(X, y, test_size=0.25, random_state=42)"
   ]
  },
  {
   "cell_type": "code",
   "execution_count": null,
   "metadata": {},
   "outputs": [],
   "source": [
    "# Создаём модель  \n",
    "regr = RandomForestRegressor(n_estimators=100, verbose=1, n_jobs=-1, random_state=RANDOM_SEED)  \n",
    "\n",
    "# Обучаем модель на тестовом наборе данных  \n",
    "regr.fit(X_train, y_train)"
   ]
  },
  {
   "cell_type": "code",
   "execution_count": null,
   "metadata": {},
   "outputs": [],
   "source": [
    "# Используем обученную модель для предсказания оценки рецензента в тестовой выборке.  \n",
    "# Предсказанные значения записываем в переменную y_pred  \n",
    "y_pred = regr.predict(X_test)"
   ]
  },
  {
   "cell_type": "code",
   "execution_count": null,
   "metadata": {},
   "outputs": [],
   "source": [
    "# Сравниваем предсказанные значения (y_pred) с реальными (y_test) и смотрим, насколько они отличаются  \n",
    "# Метрика называется Mean Absolute Percentage Error (MAPE) и показывает среднюю абсолютную процентную ошибку предсказанных значений в отношении фактических.  \n",
    "print('MAPE:', metrics.mean_absolute_percentage_error(y_test, y_pred))"
   ]
  },
  {
   "cell_type": "code",
   "execution_count": null,
   "metadata": {},
   "outputs": [],
   "source": [
    "# в RandomForestRegressor есть возможность вывести самые важные признаки для модели\n",
    "plt.rcParams['figure.figsize'] = (10,10)\n",
    "feat_importances = pd.Series(regr.feature_importances_, index=X.columns)\n",
    "feat_importances.nlargest(15).plot(kind='barh')"
   ]
  },
  {
   "cell_type": "markdown",
   "metadata": {},
   "source": [
    "<span style=\"color:#59afe1\"> \n",
    "\n",
    "## ПОДГОТОВКА ТЕСТОВЫХ ДАННЫХ <a id='p7'>"
   ]
  },
  {
   "cell_type": "markdown",
   "metadata": {},
   "source": [
    "<span style=\"color:#59afe1\"> \n",
    "\n",
    "### загрузка данных <a id='p71'>"
   ]
  },
  {
   "cell_type": "code",
   "execution_count": null,
   "metadata": {},
   "outputs": [],
   "source": [
    "# загружаем данные для тестирования модели\n",
    "test_data  = pd.read_csv('data/hotels_test.csv')\n",
    "test_data.info()"
   ]
  },
  {
   "cell_type": "code",
   "execution_count": null,
   "metadata": {},
   "outputs": [],
   "source": [
    "# загружаем данные для заполнения результатами предсказаний\n",
    "sample_submission  = pd.read_csv('data/submission.csv')\n",
    "sample_submission.sample(2)"
   ]
  },
  {
   "cell_type": "markdown",
   "metadata": {},
   "source": [
    "<span style=\"color:#59afe1\"> \n",
    "\n",
    "### создадим признак *country_cod* <a id='p72'>"
   ]
  },
  {
   "cell_type": "code",
   "execution_count": null,
   "metadata": {},
   "outputs": [],
   "source": [
    "# создадим признак страны отеля\n",
    "test_data['country']= test_data['hotel_address'].str.findall('\\w+').str.get(-1)\n",
    "# заменим значение Kingdom на United Kingdom\n",
    "test_data['country']=test_data['country'].apply(lambda x: 'United Kingdom' if x == 'Kingdom' else x)\n",
    "test_data['country'].value_counts()"
   ]
  },
  {
   "cell_type": "code",
   "execution_count": null,
   "metadata": {},
   "outputs": [],
   "source": [
    "# создадим признак города отеля\n",
    "test_data['city']= test_data['hotel_address'].str.findall('\\w+').str.get(-2)\n",
    "# заменим значение United на London\n",
    "test_data['city']=test_data['city'].apply(lambda x: 'London' if x == 'United' else x)\n",
    "test_data['city'].value_counts()"
   ]
  },
  {
   "cell_type": "code",
   "execution_count": null,
   "metadata": {},
   "outputs": [],
   "source": [
    "# закодируем признак country с помощью объекта OrdinalEncoder\n",
    "# применяем трансформацию к столбцу\n",
    "test_data['country_cod'] = ord_encoder_c.fit_transform(test_data[['country']])\n",
    "#  проверим корректность замены\n",
    "print(test_data['country'].value_counts(),test_data['country_cod'].value_counts())"
   ]
  },
  {
   "cell_type": "markdown",
   "metadata": {},
   "source": [
    "<span style=\"color:#59afe1\"> \n",
    "\n",
    "### создадим признак *resident* <a id='p73'>"
   ]
  },
  {
   "cell_type": "code",
   "execution_count": null,
   "metadata": {},
   "outputs": [],
   "source": [
    "# значение в признаки 1 - посетитель резидент страны\n",
    "# значение признака 0 - посетитель не резидент страны\n",
    "test_data['resident'] = test_data.apply(lambda x: 1 if (x['country']==x['reviewer_nationality'][1:-1]) else 0,axis=1)\n",
    "# проверим фрагмент таблицы\n",
    "test_data[['country','reviewer_nationality','resident']].head(10)"
   ]
  },
  {
   "cell_type": "markdown",
   "metadata": {},
   "source": [
    "#### создадим признаки *review_year* и *review_month*"
   ]
  },
  {
   "cell_type": "code",
   "execution_count": null,
   "metadata": {},
   "outputs": [],
   "source": [
    "# из признака review_date создадим признак review_year и month\n",
    "test_data['review_year'] = pd.to_datetime(test_data['review_date']).dt.year\n",
    "test_data['review_month'] = pd.to_datetime(test_data['review_date']).dt.month\n",
    "# посмотрим на результат\n",
    "test_data[['review_date','review_year','review_month']].sample(5)"
   ]
  },
  {
   "cell_type": "markdown",
   "metadata": {},
   "source": [
    "<span style=\"color:#59afe1\"> \n",
    "\n",
    "### создадим признак *good_words* <a id='p74'>"
   ]
  },
  {
   "cell_type": "code",
   "execution_count": null,
   "metadata": {},
   "outputs": [],
   "source": [
    "# создадим признак good_words\n",
    "test_data['good_words'] = test_data['hotel_name'].apply(lambda x: 1 if intersection_sets(x,list_good_word) else 0)\n",
    "# посмотрим на результат\n",
    "test_data['good_words'].value_counts()"
   ]
  },
  {
   "cell_type": "markdown",
   "metadata": {},
   "source": [
    "<span style=\"color:#59afe1\"> \n",
    "\n",
    "### создадим признак *nationality_cod* <a id='p75'>"
   ]
  },
  {
   "cell_type": "code",
   "execution_count": null,
   "metadata": {},
   "outputs": [],
   "source": [
    "# Выберем из признака 'reviewer_nationality' ТОП 50 категорий\n",
    "test_data['reviewer_nationality'] = test_data['reviewer_nationality'].apply(lambda x: x if x in list_rn else 'other')"
   ]
  },
  {
   "cell_type": "code",
   "execution_count": null,
   "metadata": {},
   "outputs": [],
   "source": [
    "# кодируем признак reviewer_nationality с помощью объекта ord_encoder_n\n",
    "test_data['nationality_cod'] = ord_encoder_n.fit_transform(test_data[['reviewer_nationality']])\n",
    "#  проверим корректность замены\n",
    "print(test_data['nationality_cod'].value_counts().head(5),test_data['reviewer_nationality'].value_counts().head(5))"
   ]
  },
  {
   "cell_type": "markdown",
   "metadata": {},
   "source": [
    "<span style=\"color:#59afe1\"> \n",
    "\n",
    "### создадим признаки *friendly_words* и *no_friendly_words* <a id='p76'>"
   ]
  },
  {
   "cell_type": "code",
   "execution_count": null,
   "metadata": {},
   "outputs": [],
   "source": [
    "# создадим признак friendly_words\n",
    "test_data['friendly_words'] = test_data['positive_review'].apply(lambda x: 1 if intersection_sets(x,set_friendly_word) else 0)\n",
    "# посмотрим на полученный результат\n",
    "test_data['friendly_words'].value_counts()"
   ]
  },
  {
   "cell_type": "code",
   "execution_count": null,
   "metadata": {},
   "outputs": [],
   "source": [
    "# создадим признак *no_friendly_words*\n",
    "test_data['no_friendly_words'] = test_data['negative_review'].apply(lambda x: 1 if intersection_sets(x,set_nfriendly_word) else 0)\n",
    "# посмотрим на полученный результат\n",
    "test_data['no_friendly_words'].value_counts()"
   ]
  },
  {
   "cell_type": "markdown",
   "metadata": {},
   "source": [
    "<span style=\"color:#59afe1\"> \n",
    "\n",
    "### создадим признак *percentage_positive_reviews* <a id='p77'>"
   ]
  },
  {
   "cell_type": "code",
   "execution_count": null,
   "metadata": {},
   "outputs": [],
   "source": [
    "# выберем из positive_review позитивные отзывы\n",
    "list_n_positive_review =['No Positive', ' Nothing', ' Nothing ', ' nothing', ' Not much', ' ',' Almost nothing']   # список не позитивных отзывов\n",
    "mask_p_reviews = test_data['positive_review'].apply(lambda x: x not in list_n_positive_review)\n",
    "# создадим Series с именем отеля и количеством позитивных отзывов рецензентов\n",
    "s_cp = pd.Series(test_data[mask_p_reviews].groupby(by='hotel_name')['positive_review'].count(), name='count_positive_reviews')\n",
    "# посчитаем общее количество отзывов для каждого отеля и запишем результат в новый Series\n",
    "s_cpg = pd.Series(test_data.groupby(by='hotel_name')['positive_review'].count(), name='count_reviews')"
   ]
  },
  {
   "cell_type": "code",
   "execution_count": null,
   "metadata": {},
   "outputs": [],
   "source": [
    "# Проверим что число отелей в s_cp совпадает с общим числом отелей\n",
    "s_cp.count()==test_data['hotel_name'].value_counts().count()"
   ]
  },
  {
   "cell_type": "code",
   "execution_count": null,
   "metadata": {},
   "outputs": [],
   "source": [
    "# объединим полученные Series в Data Frame\n",
    "df_pr =pd.concat([s_cp,s_cpg],axis=1)\n",
    "# добавим признак percentage_positive_reviews, отражающий долю позитивных отзывов от общего количества positive_reviews\n",
    "df_pr['percentage_positive_reviews'] = df_pr['count_positive_reviews']/df_pr['count_reviews']\n",
    "# посмотрим на результат\n",
    "df_pr"
   ]
  },
  {
   "cell_type": "code",
   "execution_count": null,
   "metadata": {},
   "outputs": [],
   "source": [
    "# \"перенесем\" признак count_positive_reviews в основной DataFrame\n",
    "test_data['count_positive_reviews'] = test_data['hotel_name'].apply(lambda x: df_pr.loc[x][0])\n",
    "# \"перенесем\" признак percentage_positive_reviews в основной DataFrame\n",
    "test_data['percentage_positive_reviews'] = test_data['hotel_name'].apply(lambda x: df_pr.loc[x][2])\n",
    "# посмотрим на результат\n",
    "test_data[['hotel_name','count_positive_reviews','percentage_positive_reviews']].head(10)"
   ]
  },
  {
   "cell_type": "markdown",
   "metadata": {},
   "source": [
    "<span style=\"color:#59afe1\"> \n",
    "\n",
    "### создадим признак *type_of_trip* <a id='p78'>"
   ]
  },
  {
   "cell_type": "code",
   "execution_count": null,
   "metadata": {},
   "outputs": [],
   "source": [
    "# 0, если отсутствует информация \n",
    "# 1, если Leisure trip\n",
    "# 2, если Business trip\n",
    "test_data['type_of_trip'] =test_data['tags'].apply(lambda x: 0 if 'trip' not in x else (1 if 'Leisure' in x else 2) )\n",
    "# посмотрим на результат\n",
    "print(test_data[test_data['type_of_trip'] == 0][['tags','type_of_trip']].head(5))\n",
    "print(test_data[test_data['type_of_trip'] == 1][['tags','type_of_trip']].head(5))\n",
    "print(test_data[test_data['type_of_trip'] == 2][['tags','type_of_trip']].head(5))"
   ]
  },
  {
   "cell_type": "markdown",
   "metadata": {},
   "source": [
    "<span style=\"color:#59afe1\"> \n",
    "\n",
    "### создадим признак *view* <a id='p79'>"
   ]
  },
  {
   "cell_type": "code",
   "execution_count": null,
   "metadata": {},
   "outputs": [],
   "source": [
    "# если номер с видом ставим 1\n",
    "test_data['view'] =test_data['tags'].apply(lambda x: 1 if 'View' in x else 0 )\n",
    "# проанализируем результат на результат\n",
    "test_data['view'].value_counts()"
   ]
  },
  {
   "cell_type": "markdown",
   "metadata": {},
   "source": [
    "<span style=\"color:#59afe1\"> \n",
    "\n",
    "### создадим признак *type_of_premium_room* <a id='p710'>"
   ]
  },
  {
   "cell_type": "code",
   "execution_count": null,
   "metadata": {},
   "outputs": [],
   "source": [
    "# комнатой уровня премиум будем считать : Superior, Deluxe, Suite, Luxury\n",
    "# 0, если комната не из списка premium\n",
    "# 1, если Superior\n",
    "# 2, если Deluxe\n",
    "# 3, если Suite\n",
    "# 4, если Luxury\n",
    "\n",
    "test_data['type_of_premium_room'] =test_data['tags'].apply(lambda x: 4 if 'Luxury' in x else (3 if 'Suite' in x else (2 if 'Deluxe' in x else (1 if 'Superior' in x else 0))) )\n",
    "# посмотрим на результат\n",
    "test_data['type_of_premium_room'].value_counts()"
   ]
  },
  {
   "cell_type": "markdown",
   "metadata": {},
   "source": [
    "<span style=\"color:#59afe1\"> \n",
    "\n",
    "### Результирующие test_data <a id='p711'>"
   ]
  },
  {
   "cell_type": "code",
   "execution_count": null,
   "metadata": {},
   "outputs": [],
   "source": [
    "# посмотрим на полученный Data Frame\n",
    "test_data.sample(2)"
   ]
  },
  {
   "cell_type": "code",
   "execution_count": null,
   "metadata": {},
   "outputs": [],
   "source": [
    "# посмотрим на список признаков по которым обучается модель\n",
    "list_features"
   ]
  },
  {
   "cell_type": "code",
   "execution_count": null,
   "metadata": {},
   "outputs": [],
   "source": [
    "# соберем r_test_data с признаками из списка list_features исключив признак reviewer_score\n",
    "r_test_data = test_data[list_features[:-1]]\n",
    "# посмотрим на полученный Data Frame\n",
    "r_test_data.head(5)"
   ]
  },
  {
   "cell_type": "markdown",
   "metadata": {},
   "source": [
    "<span style=\"color:#59afe1\"> \n",
    "\n",
    "## МАШИННОЕ ОБУЧЕНИЕ <a id='p8'>"
   ]
  },
  {
   "cell_type": "code",
   "execution_count": null,
   "metadata": {},
   "outputs": [],
   "source": [
    "# на этапе машинного обучение проведем обучение модели на всех данных из датасета df_for_model  \n",
    "# Х — данные с информацией об отелях, у — целевая переменная (рейтинги отелей)  \n",
    "X_train = df_for_model.drop(['reviewer_score'], axis = 1)  \n",
    "y_train = df_for_model['reviewer_score']"
   ]
  },
  {
   "cell_type": "code",
   "execution_count": null,
   "metadata": {},
   "outputs": [],
   "source": [
    "# Создаём модель  \n",
    "model = RandomForestRegressor(n_estimators=100, verbose=1, n_jobs=-1, random_state=RANDOM_SEED)\n",
    "\n",
    "# Обучаем модель на тестовом наборе данных\n",
    "model.fit(X_train, y_train)"
   ]
  },
  {
   "cell_type": "code",
   "execution_count": null,
   "metadata": {},
   "outputs": [],
   "source": [
    "# Используем обученную модель для предсказания оценки рецензента в тестовой выборке.\n",
    "# Предсказанные значения записываем в переменную y_pred\n",
    "predict_submission = model.predict(r_test_data)"
   ]
  },
  {
   "cell_type": "code",
   "execution_count": null,
   "metadata": {},
   "outputs": [],
   "source": [
    "# запишем результат предсказаний в файл sample_submission\n",
    "sample_submission['reviewer_score'] = predict_submission\n",
    "sample_submission.to_csv('data/submission.csv', index=False)\n",
    "sample_submission.head(10)"
   ]
  }
 ],
 "metadata": {
  "kernelspec": {
   "display_name": "Python 3",
   "language": "python",
   "name": "python3"
  },
  "language_info": {
   "codemirror_mode": {
    "name": "ipython",
    "version": 3
   },
   "file_extension": ".py",
   "mimetype": "text/x-python",
   "name": "python",
   "nbconvert_exporter": "python",
   "pygments_lexer": "ipython3",
   "version": "3.12.1"
  }
 },
 "nbformat": 4,
 "nbformat_minor": 2
}
